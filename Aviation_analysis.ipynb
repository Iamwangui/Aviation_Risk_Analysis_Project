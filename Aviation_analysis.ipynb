{
 "cells": [
  {
   "cell_type": "markdown",
   "id": "fdc22d84",
   "metadata": {},
   "source": [
    "# Aviation Risk Analysis Project\n",
    "\n"
   ]
  },
  {
   "cell_type": "markdown",
   "id": "30e85eea",
   "metadata": {},
   "source": [
    "##  Introduction\n",
    "\n",
    "\n",
    "\n"
   ]
  },
  {
   "cell_type": "markdown",
   "id": "3312fc19",
   "metadata": {},
   "source": [
    "The project analyzes  this [Aviation dataset](https://www.kaggle.com/datasets/prathamsharma123/aviation-accidents-and-incidents-ntsb-faa-waas?resource=download&select=airline_accidents.csv) to find which aircrafts are safest for a new aviation business.\n",
    "The goal is to help the  management make data-driven decisions on the fleet selection and operations."
   ]
  },
  {
   "cell_type": "markdown",
   "id": "a031d34d",
   "metadata": {},
   "source": [
    "## Objectives of the project\n"
   ]
  },
  {
   "cell_type": "markdown",
   "id": "a9daa315",
   "metadata": {},
   "source": [
    "1. Clean and prepare the dataset\n",
    "2. Explore and visualize accident patterns\n",
    "3. Reccommend the safest aircraft and practices."
   ]
  },
  {
   "cell_type": "markdown",
   "id": "9ce661e2",
   "metadata": {},
   "source": [
    "## Business Understanding\n",
    "\n"
   ]
  },
  {
   "cell_type": "markdown",
   "id": "b956e6fb",
   "metadata": {},
   "source": [
    " 1. The management wants data-driven insights to select` aircraft with the best safety records`. \n",
    "\n",
    " 2. The analysis focuses on patterns of injuries and accident phases to guide fleet selection and safety investment."
   ]
  },
  {
   "cell_type": "markdown",
   "id": "91f6c38b",
   "metadata": {},
   "source": [
    "##  Exploratory Data Analysis Section"
   ]
  },
  {
   "cell_type": "code",
   "execution_count": 1,
   "id": "8628f308",
   "metadata": {},
   "outputs": [],
   "source": [
    "#Importing the necessary libraries\n",
    "import pandas as pd\n",
    "import matplotlib.pyplot as plt\n",
    "import numpy as np"
   ]
  },
  {
   "cell_type": "code",
   "execution_count": 2,
   "id": "e027f102",
   "metadata": {},
   "outputs": [
    {
     "data": {
      "text/html": [
       "<div>\n",
       "<style scoped>\n",
       "    .dataframe tbody tr th:only-of-type {\n",
       "        vertical-align: middle;\n",
       "    }\n",
       "\n",
       "    .dataframe tbody tr th {\n",
       "        vertical-align: top;\n",
       "    }\n",
       "\n",
       "    .dataframe thead th {\n",
       "        text-align: right;\n",
       "    }\n",
       "</style>\n",
       "<table border=\"1\" class=\"dataframe\">\n",
       "  <thead>\n",
       "    <tr style=\"text-align: right;\">\n",
       "      <th></th>\n",
       "      <th>Event.Id</th>\n",
       "      <th>Investigation.Type</th>\n",
       "      <th>Accident.Number</th>\n",
       "      <th>Event.Date</th>\n",
       "      <th>Location</th>\n",
       "      <th>Country</th>\n",
       "      <th>Latitude</th>\n",
       "      <th>Longitude</th>\n",
       "      <th>Airport.Code</th>\n",
       "      <th>Airport.Name</th>\n",
       "      <th>...</th>\n",
       "      <th>Purpose.of.flight</th>\n",
       "      <th>Air.carrier</th>\n",
       "      <th>Total.Fatal.Injuries</th>\n",
       "      <th>Total.Serious.Injuries</th>\n",
       "      <th>Total.Minor.Injuries</th>\n",
       "      <th>Total.Uninjured</th>\n",
       "      <th>Weather.Condition</th>\n",
       "      <th>Broad.phase.of.flight</th>\n",
       "      <th>Report.Status</th>\n",
       "      <th>Publication.Date</th>\n",
       "    </tr>\n",
       "  </thead>\n",
       "  <tbody>\n",
       "    <tr>\n",
       "      <th>0</th>\n",
       "      <td>20001218X45444</td>\n",
       "      <td>Accident</td>\n",
       "      <td>SEA87LA080</td>\n",
       "      <td>1948-10-24</td>\n",
       "      <td>MOOSE CREEK, ID</td>\n",
       "      <td>United States</td>\n",
       "      <td>NaN</td>\n",
       "      <td>NaN</td>\n",
       "      <td>NaN</td>\n",
       "      <td>NaN</td>\n",
       "      <td>...</td>\n",
       "      <td>Personal</td>\n",
       "      <td>NaN</td>\n",
       "      <td>2.0</td>\n",
       "      <td>0.0</td>\n",
       "      <td>0.0</td>\n",
       "      <td>0.0</td>\n",
       "      <td>UNK</td>\n",
       "      <td>Cruise</td>\n",
       "      <td>Probable Cause</td>\n",
       "      <td>NaN</td>\n",
       "    </tr>\n",
       "    <tr>\n",
       "      <th>1</th>\n",
       "      <td>20001218X45447</td>\n",
       "      <td>Accident</td>\n",
       "      <td>LAX94LA336</td>\n",
       "      <td>1962-07-19</td>\n",
       "      <td>BRIDGEPORT, CA</td>\n",
       "      <td>United States</td>\n",
       "      <td>NaN</td>\n",
       "      <td>NaN</td>\n",
       "      <td>NaN</td>\n",
       "      <td>NaN</td>\n",
       "      <td>...</td>\n",
       "      <td>Personal</td>\n",
       "      <td>NaN</td>\n",
       "      <td>4.0</td>\n",
       "      <td>0.0</td>\n",
       "      <td>0.0</td>\n",
       "      <td>0.0</td>\n",
       "      <td>UNK</td>\n",
       "      <td>Unknown</td>\n",
       "      <td>Probable Cause</td>\n",
       "      <td>19-09-1996</td>\n",
       "    </tr>\n",
       "    <tr>\n",
       "      <th>2</th>\n",
       "      <td>20061025X01555</td>\n",
       "      <td>Accident</td>\n",
       "      <td>NYC07LA005</td>\n",
       "      <td>1974-08-30</td>\n",
       "      <td>Saltville, VA</td>\n",
       "      <td>United States</td>\n",
       "      <td>36.922223</td>\n",
       "      <td>-81.878056</td>\n",
       "      <td>NaN</td>\n",
       "      <td>NaN</td>\n",
       "      <td>...</td>\n",
       "      <td>Personal</td>\n",
       "      <td>NaN</td>\n",
       "      <td>3.0</td>\n",
       "      <td>NaN</td>\n",
       "      <td>NaN</td>\n",
       "      <td>NaN</td>\n",
       "      <td>IMC</td>\n",
       "      <td>Cruise</td>\n",
       "      <td>Probable Cause</td>\n",
       "      <td>26-02-2007</td>\n",
       "    </tr>\n",
       "    <tr>\n",
       "      <th>3</th>\n",
       "      <td>20001218X45448</td>\n",
       "      <td>Accident</td>\n",
       "      <td>LAX96LA321</td>\n",
       "      <td>1977-06-19</td>\n",
       "      <td>EUREKA, CA</td>\n",
       "      <td>United States</td>\n",
       "      <td>NaN</td>\n",
       "      <td>NaN</td>\n",
       "      <td>NaN</td>\n",
       "      <td>NaN</td>\n",
       "      <td>...</td>\n",
       "      <td>Personal</td>\n",
       "      <td>NaN</td>\n",
       "      <td>2.0</td>\n",
       "      <td>0.0</td>\n",
       "      <td>0.0</td>\n",
       "      <td>0.0</td>\n",
       "      <td>IMC</td>\n",
       "      <td>Cruise</td>\n",
       "      <td>Probable Cause</td>\n",
       "      <td>12-09-2000</td>\n",
       "    </tr>\n",
       "    <tr>\n",
       "      <th>4</th>\n",
       "      <td>20041105X01764</td>\n",
       "      <td>Accident</td>\n",
       "      <td>CHI79FA064</td>\n",
       "      <td>1979-08-02</td>\n",
       "      <td>Canton, OH</td>\n",
       "      <td>United States</td>\n",
       "      <td>NaN</td>\n",
       "      <td>NaN</td>\n",
       "      <td>NaN</td>\n",
       "      <td>NaN</td>\n",
       "      <td>...</td>\n",
       "      <td>Personal</td>\n",
       "      <td>NaN</td>\n",
       "      <td>1.0</td>\n",
       "      <td>2.0</td>\n",
       "      <td>NaN</td>\n",
       "      <td>0.0</td>\n",
       "      <td>VMC</td>\n",
       "      <td>Approach</td>\n",
       "      <td>Probable Cause</td>\n",
       "      <td>16-04-1980</td>\n",
       "    </tr>\n",
       "  </tbody>\n",
       "</table>\n",
       "<p>5 rows × 31 columns</p>\n",
       "</div>"
      ],
      "text/plain": [
       "         Event.Id Investigation.Type Accident.Number  Event.Date  \\\n",
       "0  20001218X45444           Accident      SEA87LA080  1948-10-24   \n",
       "1  20001218X45447           Accident      LAX94LA336  1962-07-19   \n",
       "2  20061025X01555           Accident      NYC07LA005  1974-08-30   \n",
       "3  20001218X45448           Accident      LAX96LA321  1977-06-19   \n",
       "4  20041105X01764           Accident      CHI79FA064  1979-08-02   \n",
       "\n",
       "          Location        Country   Latitude   Longitude Airport.Code  \\\n",
       "0  MOOSE CREEK, ID  United States        NaN         NaN          NaN   \n",
       "1   BRIDGEPORT, CA  United States        NaN         NaN          NaN   \n",
       "2    Saltville, VA  United States  36.922223  -81.878056          NaN   \n",
       "3       EUREKA, CA  United States        NaN         NaN          NaN   \n",
       "4       Canton, OH  United States        NaN         NaN          NaN   \n",
       "\n",
       "  Airport.Name  ... Purpose.of.flight Air.carrier Total.Fatal.Injuries  \\\n",
       "0          NaN  ...          Personal         NaN                  2.0   \n",
       "1          NaN  ...          Personal         NaN                  4.0   \n",
       "2          NaN  ...          Personal         NaN                  3.0   \n",
       "3          NaN  ...          Personal         NaN                  2.0   \n",
       "4          NaN  ...          Personal         NaN                  1.0   \n",
       "\n",
       "  Total.Serious.Injuries Total.Minor.Injuries Total.Uninjured  \\\n",
       "0                    0.0                  0.0             0.0   \n",
       "1                    0.0                  0.0             0.0   \n",
       "2                    NaN                  NaN             NaN   \n",
       "3                    0.0                  0.0             0.0   \n",
       "4                    2.0                  NaN             0.0   \n",
       "\n",
       "  Weather.Condition  Broad.phase.of.flight   Report.Status Publication.Date  \n",
       "0               UNK                 Cruise  Probable Cause              NaN  \n",
       "1               UNK                Unknown  Probable Cause       19-09-1996  \n",
       "2               IMC                 Cruise  Probable Cause       26-02-2007  \n",
       "3               IMC                 Cruise  Probable Cause       12-09-2000  \n",
       "4               VMC               Approach  Probable Cause       16-04-1980  \n",
       "\n",
       "[5 rows x 31 columns]"
      ]
     },
     "execution_count": 2,
     "metadata": {},
     "output_type": "execute_result"
    }
   ],
   "source": [
    "#Loading the dataset into the notebook\n",
    "\n",
    "df = pd.read_csv('./Aviation_Data.csv',low_memory=False)\n",
    "\n",
    "#Display the top 5 rows\n",
    "df.head()"
   ]
  },
  {
   "cell_type": "code",
   "execution_count": 3,
   "id": "4e9fcd87",
   "metadata": {},
   "outputs": [
    {
     "data": {
      "text/plain": [
       "(90348, 31)"
      ]
     },
     "execution_count": 3,
     "metadata": {},
     "output_type": "execute_result"
    }
   ],
   "source": [
    "#To check the shape \n",
    "df.shape  #The dataset has 90348 rows and 31 columns"
   ]
  },
  {
   "cell_type": "code",
   "execution_count": 4,
   "id": "63670a9e",
   "metadata": {},
   "outputs": [
    {
     "name": "stdout",
     "output_type": "stream",
     "text": [
      "<class 'pandas.core.frame.DataFrame'>\n",
      "RangeIndex: 90348 entries, 0 to 90347\n",
      "Data columns (total 31 columns):\n",
      " #   Column                  Non-Null Count  Dtype  \n",
      "---  ------                  --------------  -----  \n",
      " 0   Event.Id                88889 non-null  object \n",
      " 1   Investigation.Type      90348 non-null  object \n",
      " 2   Accident.Number         88889 non-null  object \n",
      " 3   Event.Date              88889 non-null  object \n",
      " 4   Location                88837 non-null  object \n",
      " 5   Country                 88663 non-null  object \n",
      " 6   Latitude                34382 non-null  object \n",
      " 7   Longitude               34373 non-null  object \n",
      " 8   Airport.Code            50249 non-null  object \n",
      " 9   Airport.Name            52790 non-null  object \n",
      " 10  Injury.Severity         87889 non-null  object \n",
      " 11  Aircraft.damage         85695 non-null  object \n",
      " 12  Aircraft.Category       32287 non-null  object \n",
      " 13  Registration.Number     87572 non-null  object \n",
      " 14  Make                    88826 non-null  object \n",
      " 15  Model                   88797 non-null  object \n",
      " 16  Amateur.Built           88787 non-null  object \n",
      " 17  Number.of.Engines       82805 non-null  float64\n",
      " 18  Engine.Type             81812 non-null  object \n",
      " 19  FAR.Description         32023 non-null  object \n",
      " 20  Schedule                12582 non-null  object \n",
      " 21  Purpose.of.flight       82697 non-null  object \n",
      " 22  Air.carrier             16648 non-null  object \n",
      " 23  Total.Fatal.Injuries    77488 non-null  float64\n",
      " 24  Total.Serious.Injuries  76379 non-null  float64\n",
      " 25  Total.Minor.Injuries    76956 non-null  float64\n",
      " 26  Total.Uninjured         82977 non-null  float64\n",
      " 27  Weather.Condition       84397 non-null  object \n",
      " 28  Broad.phase.of.flight   61724 non-null  object \n",
      " 29  Report.Status           82508 non-null  object \n",
      " 30  Publication.Date        73659 non-null  object \n",
      "dtypes: float64(5), object(26)\n",
      "memory usage: 21.4+ MB\n"
     ]
    }
   ],
   "source": [
    "#Looking at the basic info of the coulmns of the dataframe\n",
    "df.info()"
   ]
  },
  {
   "cell_type": "code",
   "execution_count": 5,
   "id": "38f46b92",
   "metadata": {},
   "outputs": [
    {
     "data": {
      "text/html": [
       "<div>\n",
       "<style scoped>\n",
       "    .dataframe tbody tr th:only-of-type {\n",
       "        vertical-align: middle;\n",
       "    }\n",
       "\n",
       "    .dataframe tbody tr th {\n",
       "        vertical-align: top;\n",
       "    }\n",
       "\n",
       "    .dataframe thead th {\n",
       "        text-align: right;\n",
       "    }\n",
       "</style>\n",
       "<table border=\"1\" class=\"dataframe\">\n",
       "  <thead>\n",
       "    <tr style=\"text-align: right;\">\n",
       "      <th></th>\n",
       "      <th>Number.of.Engines</th>\n",
       "      <th>Total.Fatal.Injuries</th>\n",
       "      <th>Total.Serious.Injuries</th>\n",
       "      <th>Total.Minor.Injuries</th>\n",
       "      <th>Total.Uninjured</th>\n",
       "    </tr>\n",
       "  </thead>\n",
       "  <tbody>\n",
       "    <tr>\n",
       "      <th>count</th>\n",
       "      <td>82805.000000</td>\n",
       "      <td>77488.000000</td>\n",
       "      <td>76379.000000</td>\n",
       "      <td>76956.000000</td>\n",
       "      <td>82977.000000</td>\n",
       "    </tr>\n",
       "    <tr>\n",
       "      <th>mean</th>\n",
       "      <td>1.146585</td>\n",
       "      <td>0.647855</td>\n",
       "      <td>0.279881</td>\n",
       "      <td>0.357061</td>\n",
       "      <td>5.325440</td>\n",
       "    </tr>\n",
       "    <tr>\n",
       "      <th>std</th>\n",
       "      <td>0.446510</td>\n",
       "      <td>5.485960</td>\n",
       "      <td>1.544084</td>\n",
       "      <td>2.235625</td>\n",
       "      <td>27.913634</td>\n",
       "    </tr>\n",
       "    <tr>\n",
       "      <th>min</th>\n",
       "      <td>0.000000</td>\n",
       "      <td>0.000000</td>\n",
       "      <td>0.000000</td>\n",
       "      <td>0.000000</td>\n",
       "      <td>0.000000</td>\n",
       "    </tr>\n",
       "    <tr>\n",
       "      <th>25%</th>\n",
       "      <td>1.000000</td>\n",
       "      <td>0.000000</td>\n",
       "      <td>0.000000</td>\n",
       "      <td>0.000000</td>\n",
       "      <td>0.000000</td>\n",
       "    </tr>\n",
       "    <tr>\n",
       "      <th>50%</th>\n",
       "      <td>1.000000</td>\n",
       "      <td>0.000000</td>\n",
       "      <td>0.000000</td>\n",
       "      <td>0.000000</td>\n",
       "      <td>1.000000</td>\n",
       "    </tr>\n",
       "    <tr>\n",
       "      <th>75%</th>\n",
       "      <td>1.000000</td>\n",
       "      <td>0.000000</td>\n",
       "      <td>0.000000</td>\n",
       "      <td>0.000000</td>\n",
       "      <td>2.000000</td>\n",
       "    </tr>\n",
       "    <tr>\n",
       "      <th>max</th>\n",
       "      <td>8.000000</td>\n",
       "      <td>349.000000</td>\n",
       "      <td>161.000000</td>\n",
       "      <td>380.000000</td>\n",
       "      <td>699.000000</td>\n",
       "    </tr>\n",
       "  </tbody>\n",
       "</table>\n",
       "</div>"
      ],
      "text/plain": [
       "       Number.of.Engines  Total.Fatal.Injuries  Total.Serious.Injuries  \\\n",
       "count       82805.000000          77488.000000            76379.000000   \n",
       "mean            1.146585              0.647855                0.279881   \n",
       "std             0.446510              5.485960                1.544084   \n",
       "min             0.000000              0.000000                0.000000   \n",
       "25%             1.000000              0.000000                0.000000   \n",
       "50%             1.000000              0.000000                0.000000   \n",
       "75%             1.000000              0.000000                0.000000   \n",
       "max             8.000000            349.000000              161.000000   \n",
       "\n",
       "       Total.Minor.Injuries  Total.Uninjured  \n",
       "count          76956.000000     82977.000000  \n",
       "mean               0.357061         5.325440  \n",
       "std                2.235625        27.913634  \n",
       "min                0.000000         0.000000  \n",
       "25%                0.000000         0.000000  \n",
       "50%                0.000000         1.000000  \n",
       "75%                0.000000         2.000000  \n",
       "max              380.000000       699.000000  "
      ]
     },
     "execution_count": 5,
     "metadata": {},
     "output_type": "execute_result"
    }
   ],
   "source": [
    "#looking at the summary of the statistical measures\n",
    "df.describe() "
   ]
  },
  {
   "cell_type": "code",
   "execution_count": 6,
   "id": "b30a11f6",
   "metadata": {},
   "outputs": [
    {
     "data": {
      "text/plain": [
       "Index(['Event.Id', 'Investigation.Type', 'Accident.Number', 'Event.Date',\n",
       "       'Location', 'Country', 'Latitude', 'Longitude', 'Airport.Code',\n",
       "       'Airport.Name', 'Injury.Severity', 'Aircraft.damage',\n",
       "       'Aircraft.Category', 'Registration.Number', 'Make', 'Model',\n",
       "       'Amateur.Built', 'Number.of.Engines', 'Engine.Type', 'FAR.Description',\n",
       "       'Schedule', 'Purpose.of.flight', 'Air.carrier', 'Total.Fatal.Injuries',\n",
       "       'Total.Serious.Injuries', 'Total.Minor.Injuries', 'Total.Uninjured',\n",
       "       'Weather.Condition', 'Broad.phase.of.flight', 'Report.Status',\n",
       "       'Publication.Date'],\n",
       "      dtype='object')"
      ]
     },
     "execution_count": 6,
     "metadata": {},
     "output_type": "execute_result"
    }
   ],
   "source": [
    "#Looking at all the columns to maybe identify some relevant columns\n",
    "df.columns"
   ]
  },
  {
   "cell_type": "code",
   "execution_count": 7,
   "id": "bdc66ea9",
   "metadata": {},
   "outputs": [],
   "source": [
    "#Converting the column names to be snake case\n",
    "df.columns = df.columns.str.replace('.', '_')\n"
   ]
  },
  {
   "cell_type": "code",
   "execution_count": 8,
   "id": "26389edf",
   "metadata": {},
   "outputs": [
    {
     "data": {
      "text/plain": [
       "Index(['Event_Id', 'Investigation_Type', 'Accident_Number', 'Event_Date',\n",
       "       'Location', 'Country', 'Latitude', 'Longitude', 'Airport_Code',\n",
       "       'Airport_Name', 'Injury_Severity', 'Aircraft_damage',\n",
       "       'Aircraft_Category', 'Registration_Number', 'Make', 'Model',\n",
       "       'Amateur_Built', 'Number_of_Engines', 'Engine_Type', 'FAR_Description',\n",
       "       'Schedule', 'Purpose_of_flight', 'Air_carrier', 'Total_Fatal_Injuries',\n",
       "       'Total_Serious_Injuries', 'Total_Minor_Injuries', 'Total_Uninjured',\n",
       "       'Weather_Condition', 'Broad_phase_of_flight', 'Report_Status',\n",
       "       'Publication_Date'],\n",
       "      dtype='object')"
      ]
     },
     "execution_count": 8,
     "metadata": {},
     "output_type": "execute_result"
    }
   ],
   "source": [
    "#Confirming that the column names are now in snake_case for readability\n",
    "df.columns"
   ]
  },
  {
   "cell_type": "code",
   "execution_count": 9,
   "id": "64ead0bf",
   "metadata": {},
   "outputs": [
    {
     "data": {
      "text/plain": [
       "1459"
      ]
     },
     "execution_count": 9,
     "metadata": {},
     "output_type": "execute_result"
    }
   ],
   "source": [
    "df['Event_Id'].isna().sum()\n"
   ]
  },
  {
   "cell_type": "markdown",
   "id": "06a9ea9a",
   "metadata": {},
   "source": [
    "## Quick Data Summary\n",
    "\n"
   ]
  },
  {
   "cell_type": "markdown",
   "id": "b2da0f94",
   "metadata": {},
   "source": [
    "\n",
    "- **Rows / columns:** The dataset contains **90348 rows** and **31 columns**.\n",
    "- **Data types:** Most columns are `object` (text); there are some numeric columns (`float64`) for  engine number.\n",
    "- **Missingness:** Several fields have substantial missing values (for example `Latitude`/`Longitude` , `Aircraft_Category` and `FAR_Description`).  \n",
    "- **Key columns that could be relevant :** `Aircraft_Category`,`Make`, `Model`, `Injury_Severity`, `Total_Fatal_Injuries`, `Total_Serious_Injuries` could be relevant to our aviation analysis.\n",
    "\n"
   ]
  },
  {
   "cell_type": "code",
   "execution_count": 10,
   "id": "e5f5a504",
   "metadata": {},
   "outputs": [],
   "source": [
    "#I want to filter to remain with columns relevant to my analysis\n",
    "# Relevant columns\n",
    "relevant_cols = ['Event_Id', 'Make', 'Model', 'Total_Fatal_Injuries', 'Total_Serious_Injuries', 'Total_Minor_Injuries', 'Total_Uninjured','Event_Date','Location','Purpose_of_flight','Broad_phase_of_flight','Aircraft_Category'\n",
    "]\n",
    "\n",
    "df = df[relevant_cols]\n",
    "\n",
    "\n"
   ]
  },
  {
   "cell_type": "code",
   "execution_count": 11,
   "id": "3bce6999",
   "metadata": {},
   "outputs": [
    {
     "name": "stdout",
     "output_type": "stream",
     "text": [
      "<class 'pandas.core.frame.DataFrame'>\n",
      "RangeIndex: 90348 entries, 0 to 90347\n",
      "Data columns (total 12 columns):\n",
      " #   Column                  Non-Null Count  Dtype  \n",
      "---  ------                  --------------  -----  \n",
      " 0   Event_Id                88889 non-null  object \n",
      " 1   Make                    88826 non-null  object \n",
      " 2   Model                   88797 non-null  object \n",
      " 3   Total_Fatal_Injuries    77488 non-null  float64\n",
      " 4   Total_Serious_Injuries  76379 non-null  float64\n",
      " 5   Total_Minor_Injuries    76956 non-null  float64\n",
      " 6   Total_Uninjured         82977 non-null  float64\n",
      " 7   Event_Date              88889 non-null  object \n",
      " 8   Location                88837 non-null  object \n",
      " 9   Purpose_of_flight       82697 non-null  object \n",
      " 10  Broad_phase_of_flight   61724 non-null  object \n",
      " 11  Aircraft_Category       32287 non-null  object \n",
      "dtypes: float64(4), object(8)\n",
      "memory usage: 8.3+ MB\n"
     ]
    }
   ],
   "source": [
    "#To confirm i have the relevant columns only\n",
    "df.info()"
   ]
  },
  {
   "cell_type": "markdown",
   "id": "a8c84c28",
   "metadata": {},
   "source": [
    "## Data Cleaning Section"
   ]
  },
  {
   "cell_type": "markdown",
   "id": "844e172d",
   "metadata": {},
   "source": [
    "### Dealing with missing values "
   ]
  },
  {
   "cell_type": "code",
   "execution_count": 12,
   "id": "b7c86075",
   "metadata": {},
   "outputs": [
    {
     "data": {
      "text/plain": [
       "1506"
      ]
     },
     "execution_count": 12,
     "metadata": {},
     "output_type": "execute_result"
    }
   ],
   "source": [
    "#First check for duplicates\n",
    "\n",
    "df.duplicated().sum()"
   ]
  },
  {
   "cell_type": "code",
   "execution_count": 13,
   "id": "49a46e2e",
   "metadata": {},
   "outputs": [
    {
     "data": {
      "text/plain": [
       "0"
      ]
     },
     "execution_count": 13,
     "metadata": {},
     "output_type": "execute_result"
    }
   ],
   "source": [
    "#Dropping the duplicates\n",
    "df = df.drop_duplicates()\n",
    "df.duplicated().sum()"
   ]
  },
  {
   "cell_type": "code",
   "execution_count": 14,
   "id": "d79b7e04",
   "metadata": {},
   "outputs": [
    {
     "data": {
      "text/plain": [
       "(88842, 12)"
      ]
     },
     "execution_count": 14,
     "metadata": {},
     "output_type": "execute_result"
    }
   ],
   "source": [
    "#Checking the no.of rows and columns after dropping duplicates\n",
    "df.shape"
   ]
  },
  {
   "cell_type": "code",
   "execution_count": 15,
   "id": "69981153",
   "metadata": {},
   "outputs": [
    {
     "data": {
      "text/plain": [
       "Aircraft_Category         56563\n",
       "Broad_phase_of_flight     27162\n",
       "Total_Serious_Injuries    12503\n",
       "Total_Minor_Injuries      11926\n",
       "Total_Fatal_Injuries      11398\n",
       "Purpose_of_flight          6190\n",
       "Total_Uninjured            5909\n",
       "Model                        93\n",
       "Make                         64\n",
       "Location                     53\n",
       "Event_Date                    1\n",
       "Event_Id                      1\n",
       "dtype: int64"
      ]
     },
     "execution_count": 15,
     "metadata": {},
     "output_type": "execute_result"
    }
   ],
   "source": [
    "#Checking the counts of the missing values in the columns in descending order\n",
    "\n",
    "df.isna().sum().sort_values(ascending=False)\n"
   ]
  },
  {
   "cell_type": "code",
   "execution_count": 16,
   "id": "9aaf3885",
   "metadata": {},
   "outputs": [
    {
     "data": {
      "text/plain": [
       "Aircraft_Category         63.67\n",
       "Broad_phase_of_flight     30.57\n",
       "Total_Serious_Injuries    14.07\n",
       "Total_Minor_Injuries      13.42\n",
       "Total_Fatal_Injuries      12.83\n",
       "Purpose_of_flight          6.97\n",
       "Total_Uninjured            6.65\n",
       "Model                      0.10\n",
       "Make                       0.07\n",
       "Location                   0.06\n",
       "Event_Date                 0.00\n",
       "Event_Id                   0.00\n",
       "dtype: float64"
      ]
     },
     "execution_count": 16,
     "metadata": {},
     "output_type": "execute_result"
    }
   ],
   "source": [
    "#To check the percentage of missingness against the length of the dataframe for each column  to now have determine whether to drop or replace \n",
    "percentage_of_missingness = round(df.isna().sum() *100 / len(df) , 2)\n",
    "percentage_of_missingness.sort_values(ascending = False)"
   ]
  },
  {
   "cell_type": "markdown",
   "id": "45944177",
   "metadata": {},
   "source": [
    "### Explanation of the above\n",
    "The column `Aircraft_Category` has a lot of missing values(63%)\n",
    "\n",
    "\n",
    "That means th rows in that column  are mostly empty and may not add much value for my analysis so I will drop it "
   ]
  },
  {
   "cell_type": "code",
   "execution_count": 17,
   "id": "9bcc636b",
   "metadata": {},
   "outputs": [
    {
     "name": "stdout",
     "output_type": "stream",
     "text": [
      "<class 'pandas.core.frame.DataFrame'>\n",
      "Int64Index: 88842 entries, 0 to 90347\n",
      "Data columns (total 11 columns):\n",
      " #   Column                  Non-Null Count  Dtype  \n",
      "---  ------                  --------------  -----  \n",
      " 0   Event_Id                88841 non-null  object \n",
      " 1   Make                    88778 non-null  object \n",
      " 2   Model                   88749 non-null  object \n",
      " 3   Total_Fatal_Injuries    77444 non-null  float64\n",
      " 4   Total_Serious_Injuries  76339 non-null  float64\n",
      " 5   Total_Minor_Injuries    76916 non-null  float64\n",
      " 6   Total_Uninjured         82933 non-null  float64\n",
      " 7   Event_Date              88841 non-null  object \n",
      " 8   Location                88789 non-null  object \n",
      " 9   Purpose_of_flight       82652 non-null  object \n",
      " 10  Broad_phase_of_flight   61680 non-null  object \n",
      "dtypes: float64(4), object(7)\n",
      "memory usage: 8.1+ MB\n"
     ]
    }
   ],
   "source": [
    "# Drop columns with too many missing values \n",
    "\n",
    "\n",
    "\n",
    "df = df.drop('Aircraft_Category' ,axis=1)\n",
    "\n",
    "# Check again to confirm they were removed\n",
    "df.info()\n"
   ]
  },
  {
   "cell_type": "code",
   "execution_count": 18,
   "id": "fdbc30d5",
   "metadata": {},
   "outputs": [
    {
     "data": {
      "text/plain": [
       "Broad_phase_of_flight     27162\n",
       "Total_Serious_Injuries    12503\n",
       "Total_Minor_Injuries      11926\n",
       "Total_Fatal_Injuries      11398\n",
       "Purpose_of_flight          6190\n",
       "Total_Uninjured            5909\n",
       "Model                        93\n",
       "Make                         64\n",
       "Location                     53\n",
       "Event_Date                    1\n",
       "Event_Id                      1\n",
       "dtype: int64"
      ]
     },
     "execution_count": 18,
     "metadata": {},
     "output_type": "execute_result"
    }
   ],
   "source": [
    "# Check remaining missing values after dropping columns\n",
    "df.isna().sum().sort_values(ascending=False)\n"
   ]
  },
  {
   "cell_type": "markdown",
   "id": "8485213c",
   "metadata": {},
   "source": [
    "### Visualizing the numerical columns to determine what method of imputation I would use(mean or median)"
   ]
  },
  {
   "cell_type": "code",
   "execution_count": 19,
   "id": "72f4185b",
   "metadata": {},
   "outputs": [
    {
     "data": {
      "text/html": [
       "<div>\n",
       "<style scoped>\n",
       "    .dataframe tbody tr th:only-of-type {\n",
       "        vertical-align: middle;\n",
       "    }\n",
       "\n",
       "    .dataframe tbody tr th {\n",
       "        vertical-align: top;\n",
       "    }\n",
       "\n",
       "    .dataframe thead th {\n",
       "        text-align: right;\n",
       "    }\n",
       "</style>\n",
       "<table border=\"1\" class=\"dataframe\">\n",
       "  <thead>\n",
       "    <tr style=\"text-align: right;\">\n",
       "      <th></th>\n",
       "      <th>Total_Fatal_Injuries</th>\n",
       "      <th>Total_Serious_Injuries</th>\n",
       "      <th>Total_Minor_Injuries</th>\n",
       "      <th>Total_Uninjured</th>\n",
       "    </tr>\n",
       "  </thead>\n",
       "  <tbody>\n",
       "    <tr>\n",
       "      <th>0</th>\n",
       "      <td>2.0</td>\n",
       "      <td>0.0</td>\n",
       "      <td>0.0</td>\n",
       "      <td>0.0</td>\n",
       "    </tr>\n",
       "    <tr>\n",
       "      <th>1</th>\n",
       "      <td>4.0</td>\n",
       "      <td>0.0</td>\n",
       "      <td>0.0</td>\n",
       "      <td>0.0</td>\n",
       "    </tr>\n",
       "    <tr>\n",
       "      <th>2</th>\n",
       "      <td>3.0</td>\n",
       "      <td>NaN</td>\n",
       "      <td>NaN</td>\n",
       "      <td>NaN</td>\n",
       "    </tr>\n",
       "    <tr>\n",
       "      <th>3</th>\n",
       "      <td>2.0</td>\n",
       "      <td>0.0</td>\n",
       "      <td>0.0</td>\n",
       "      <td>0.0</td>\n",
       "    </tr>\n",
       "    <tr>\n",
       "      <th>4</th>\n",
       "      <td>1.0</td>\n",
       "      <td>2.0</td>\n",
       "      <td>NaN</td>\n",
       "      <td>0.0</td>\n",
       "    </tr>\n",
       "    <tr>\n",
       "      <th>...</th>\n",
       "      <td>...</td>\n",
       "      <td>...</td>\n",
       "      <td>...</td>\n",
       "      <td>...</td>\n",
       "    </tr>\n",
       "    <tr>\n",
       "      <th>90343</th>\n",
       "      <td>0.0</td>\n",
       "      <td>1.0</td>\n",
       "      <td>0.0</td>\n",
       "      <td>0.0</td>\n",
       "    </tr>\n",
       "    <tr>\n",
       "      <th>90344</th>\n",
       "      <td>0.0</td>\n",
       "      <td>0.0</td>\n",
       "      <td>0.0</td>\n",
       "      <td>0.0</td>\n",
       "    </tr>\n",
       "    <tr>\n",
       "      <th>90345</th>\n",
       "      <td>0.0</td>\n",
       "      <td>0.0</td>\n",
       "      <td>0.0</td>\n",
       "      <td>1.0</td>\n",
       "    </tr>\n",
       "    <tr>\n",
       "      <th>90346</th>\n",
       "      <td>0.0</td>\n",
       "      <td>0.0</td>\n",
       "      <td>0.0</td>\n",
       "      <td>0.0</td>\n",
       "    </tr>\n",
       "    <tr>\n",
       "      <th>90347</th>\n",
       "      <td>0.0</td>\n",
       "      <td>1.0</td>\n",
       "      <td>0.0</td>\n",
       "      <td>1.0</td>\n",
       "    </tr>\n",
       "  </tbody>\n",
       "</table>\n",
       "<p>88842 rows × 4 columns</p>\n",
       "</div>"
      ],
      "text/plain": [
       "       Total_Fatal_Injuries  Total_Serious_Injuries  Total_Minor_Injuries  \\\n",
       "0                       2.0                     0.0                   0.0   \n",
       "1                       4.0                     0.0                   0.0   \n",
       "2                       3.0                     NaN                   NaN   \n",
       "3                       2.0                     0.0                   0.0   \n",
       "4                       1.0                     2.0                   NaN   \n",
       "...                     ...                     ...                   ...   \n",
       "90343                   0.0                     1.0                   0.0   \n",
       "90344                   0.0                     0.0                   0.0   \n",
       "90345                   0.0                     0.0                   0.0   \n",
       "90346                   0.0                     0.0                   0.0   \n",
       "90347                   0.0                     1.0                   0.0   \n",
       "\n",
       "       Total_Uninjured  \n",
       "0                  0.0  \n",
       "1                  0.0  \n",
       "2                  NaN  \n",
       "3                  0.0  \n",
       "4                  0.0  \n",
       "...                ...  \n",
       "90343              0.0  \n",
       "90344              0.0  \n",
       "90345              1.0  \n",
       "90346              0.0  \n",
       "90347              1.0  \n",
       "\n",
       "[88842 rows x 4 columns]"
      ]
     },
     "execution_count": 19,
     "metadata": {},
     "output_type": "execute_result"
    }
   ],
   "source": [
    "#Displayed the numerical columns just to have a rough idea of how the values in the rows are appearing \n",
    "df.loc[:,['Total_Fatal_Injuries', 'Total_Serious_Injuries','Total_Minor_Injuries', 'Total_Uninjured']]"
   ]
  },
  {
   "cell_type": "code",
   "execution_count": 20,
   "id": "99dea1a2",
   "metadata": {},
   "outputs": [],
   "source": [
    "num_cols = ['Total_Fatal_Injuries', 'Total_Serious_Injuries','Total_Minor_Injuries', 'Total_Uninjured']\n"
   ]
  },
  {
   "cell_type": "code",
   "execution_count": 21,
   "id": "d206800a",
   "metadata": {},
   "outputs": [
    {
     "data": {
      "image/png": "[encoded data removed]",
      "text/plain": [
       "<Figure size 864x576 with 4 Axes>"
      ]
     },
     "metadata": {
      "needs_background": "light"
     },
     "output_type": "display_data"
    }
   ],
   "source": [
    "#Plotting a histogram to determine the distribution of the numerical columnns\n",
    "import matplotlib.pyplot as plt\n",
    "\n",
    "# Plot histograms for numerical columns\n",
    "df[num_cols].hist(bins=30, figsize=(12, 8))\n",
    "plt.suptitle('Distribution of Numerical Columns', fontsize=16)\n",
    "plt.show()\n"
   ]
  },
  {
   "cell_type": "markdown",
   "id": "939339f7",
   "metadata": {},
   "source": [
    "### Histogram observation\n",
    "The numerical columns(`Total_Fatal_Injuries`, `Total_Serious_Injuries`,`Total_Minor_Injuries`, `Total_Uninjured`) are heavily **right-skewed** so **median-imputation** would be appropriate"
   ]
  },
  {
   "cell_type": "code",
   "execution_count": 22,
   "id": "d5db98ae",
   "metadata": {},
   "outputs": [
    {
     "data": {
      "text/plain": [
       "0"
      ]
     },
     "execution_count": 22,
     "metadata": {},
     "output_type": "execute_result"
    }
   ],
   "source": [
    "#Filling in the null values in the numerical columns with median\n",
    "\n",
    "df['Total_Fatal_Injuries'] = df['Total_Fatal_Injuries'].fillna(df['Total_Fatal_Injuries'].median())\n",
    "df['Total_Fatal_Injuries'].isna().sum()\n"
   ]
  },
  {
   "cell_type": "code",
   "execution_count": 23,
   "id": "c823db3a",
   "metadata": {},
   "outputs": [
    {
     "data": {
      "text/plain": [
       "0"
      ]
     },
     "execution_count": 23,
     "metadata": {},
     "output_type": "execute_result"
    }
   ],
   "source": [
    "#Filling in the nullvalues of Total Serious Injuries column with its median\n",
    "df['Total_Serious_Injuries'] = df['Total_Serious_Injuries'].fillna(df['Total_Serious_Injuries'].median())\n",
    "df['Total_Serious_Injuries'].isna().sum()"
   ]
  },
  {
   "cell_type": "code",
   "execution_count": 24,
   "id": "7f26f4e2",
   "metadata": {},
   "outputs": [
    {
     "data": {
      "text/plain": [
       "0"
      ]
     },
     "execution_count": 24,
     "metadata": {},
     "output_type": "execute_result"
    }
   ],
   "source": [
    "#Filling in the null  values of Total Minor Injuries column with its median\n",
    "df['Total_Minor_Injuries'] = df['Total_Minor_Injuries'].fillna(df['Total_Minor_Injuries'].median())\n",
    "df['Total_Minor_Injuries'].isna().sum()"
   ]
  },
  {
   "cell_type": "code",
   "execution_count": 25,
   "id": "d909f653",
   "metadata": {},
   "outputs": [
    {
     "data": {
      "text/plain": [
       "0"
      ]
     },
     "execution_count": 25,
     "metadata": {},
     "output_type": "execute_result"
    }
   ],
   "source": [
    "#Filling in the null values of Uninjured column with its median\n",
    "df['Total_Uninjured'] = df['Total_Uninjured'].fillna(df['Total_Uninjured'].median())\n",
    "df['Total_Uninjured'].isna().sum()"
   ]
  },
  {
   "cell_type": "code",
   "execution_count": 26,
   "id": "bcbb5c06",
   "metadata": {},
   "outputs": [
    {
     "data": {
      "text/plain": [
       "Broad_phase_of_flight     27162\n",
       "Purpose_of_flight          6190\n",
       "Model                        93\n",
       "Make                         64\n",
       "Location                     53\n",
       "Event_Date                    1\n",
       "Event_Id                      1\n",
       "Total_Uninjured               0\n",
       "Total_Minor_Injuries          0\n",
       "Total_Serious_Injuries        0\n",
       "Total_Fatal_Injuries          0\n",
       "dtype: int64"
      ]
     },
     "execution_count": 26,
     "metadata": {},
     "output_type": "execute_result"
    }
   ],
   "source": [
    "#Confirming that the above cleaned columns dont have null values\n",
    "df.isna().sum().sort_values(ascending=False)\n"
   ]
  },
  {
   "cell_type": "markdown",
   "id": "1eefc027",
   "metadata": {},
   "source": [
    "### Cleaning up the `Broad_phase_of_flight`(the specific stages of an aircraft's journey)column"
   ]
  },
  {
   "cell_type": "code",
   "execution_count": 27,
   "id": "61396cf5",
   "metadata": {},
   "outputs": [
    {
     "data": {
      "text/plain": [
       "array(['Cruise', 'Unknown', 'Approach', 'Climb', 'Takeoff', 'Landing',\n",
       "       'Taxi', 'Descent', 'Maneuvering', 'Standing', 'Go-around', 'Other',\n",
       "       nan], dtype=object)"
      ]
     },
     "execution_count": 27,
     "metadata": {},
     "output_type": "execute_result"
    }
   ],
   "source": [
    "#Use .unique() to identify null values and other placeholders\n",
    "df['Broad_phase_of_flight'].unique()"
   ]
  },
  {
   "cell_type": "code",
   "execution_count": 28,
   "id": "93825780",
   "metadata": {},
   "outputs": [
    {
     "data": {
      "text/plain": [
       "Landing        15427\n",
       "Takeoff        12492\n",
       "Cruise         10261\n",
       "Maneuvering     8131\n",
       "Approach        6539\n",
       "Climb           2032\n",
       "Taxi            1950\n",
       "Descent         1887\n",
       "Go-around       1353\n",
       "Standing         941\n",
       "Unknown          548\n",
       "Other            119\n",
       "Name: Broad_phase_of_flight, dtype: int64"
      ]
     },
     "execution_count": 28,
     "metadata": {},
     "output_type": "execute_result"
    }
   ],
   "source": [
    "#Understanding the frequency of the unique values in the column\n",
    "df['Broad_phase_of_flight'].value_counts()"
   ]
  },
  {
   "cell_type": "code",
   "execution_count": 29,
   "id": "597a4ce4",
   "metadata": {},
   "outputs": [],
   "source": [
    "#Dropping the null values in the column\n",
    "\n",
    "# df['Broad_phase_of_flight'].dropna()\n",
    "# df = df.dropna(subset=['Broad_phase_of_flight'])\n",
    "df['Broad_phase_of_flight'].fillna('Missing', inplace=True)\n",
    "\n",
    "\n",
    "\n",
    "\n",
    "\n"
   ]
  },
  {
   "cell_type": "code",
   "execution_count": 30,
   "id": "781e4505",
   "metadata": {},
   "outputs": [
    {
     "data": {
      "text/plain": [
       "0"
      ]
     },
     "execution_count": 30,
     "metadata": {},
     "output_type": "execute_result"
    }
   ],
   "source": [
    "#Confirming it was cleaned\n",
    "df['Broad_phase_of_flight'].isna().sum()"
   ]
  },
  {
   "cell_type": "markdown",
   "id": "2d2a1739",
   "metadata": {},
   "source": [
    "### Cleaning up `Purpose_of_flight` column"
   ]
  },
  {
   "cell_type": "code",
   "execution_count": 31,
   "id": "a082fd13",
   "metadata": {},
   "outputs": [
    {
     "data": {
      "text/plain": [
       "array(['Personal', nan, 'Business', 'Instructional', 'Unknown', 'Ferry',\n",
       "       'Executive/corporate', 'Aerial Observation', 'Aerial Application',\n",
       "       'Public Aircraft', 'Skydiving', 'Other Work Use', 'Positioning',\n",
       "       'Flight Test', 'Air Race/show', 'Air Drop',\n",
       "       'Public Aircraft - Federal', 'Glider Tow',\n",
       "       'Public Aircraft - Local', 'External Load',\n",
       "       'Public Aircraft - State', 'Banner Tow', 'Firefighting',\n",
       "       'Air Race show', 'PUBS', 'ASHO', 'PUBL'], dtype=object)"
      ]
     },
     "execution_count": 31,
     "metadata": {},
     "output_type": "execute_result"
    }
   ],
   "source": [
    "#Determining the unique categories of purpose of flight\n",
    "df['Purpose_of_flight'].unique()"
   ]
  },
  {
   "cell_type": "code",
   "execution_count": 32,
   "id": "49e500fb",
   "metadata": {},
   "outputs": [
    {
     "data": {
      "text/plain": [
       "Personal                     49438\n",
       "Instructional                10596\n",
       "Unknown                       6788\n",
       "Aerial Application            4708\n",
       "Business                      4014\n",
       "Positioning                   1645\n",
       "Other Work Use                1259\n",
       "Ferry                          812\n",
       "Aerial Observation             794\n",
       "Public Aircraft                718\n",
       "Executive/corporate            553\n",
       "Flight Test                    405\n",
       "Skydiving                      182\n",
       "External Load                  123\n",
       "Public Aircraft - Federal      105\n",
       "Banner Tow                     101\n",
       "Air Race show                   99\n",
       "Public Aircraft - Local         74\n",
       "Public Aircraft - State         64\n",
       "Air Race/show                   59\n",
       "Glider Tow                      53\n",
       "Firefighting                    40\n",
       "Air Drop                        11\n",
       "ASHO                             6\n",
       "PUBS                             4\n",
       "PUBL                             1\n",
       "Name: Purpose_of_flight, dtype: int64"
      ]
     },
     "execution_count": 32,
     "metadata": {},
     "output_type": "execute_result"
    }
   ],
   "source": [
    "#Determining the frequency of the categories\n",
    "df['Purpose_of_flight'].value_counts()"
   ]
  },
  {
   "cell_type": "code",
   "execution_count": 33,
   "id": "4e17292a",
   "metadata": {},
   "outputs": [],
   "source": [
    "#I would like to replace the abbreviations first and also combine Air Race/Show and Air Race show\n",
    "purpose_mapping = {\n",
    "    'Air Race show': 'Air Race/Show',\n",
    "    'Air Race/show': 'Air Race/Show',\n",
    "    'PUBS': 'Public Aircraft',\n",
    "    'PUBL': 'Public Aircraft',\n",
    "    'ASHO': 'Air Race/Show'\n",
    "}\n",
    "\n",
    "df['Purpose_of_flight'] = df['Purpose_of_flight'].replace(purpose_mapping)\n"
   ]
  },
  {
   "cell_type": "code",
   "execution_count": 34,
   "id": "6b3b816a",
   "metadata": {},
   "outputs": [
    {
     "data": {
      "text/plain": [
       "array(['Personal', 'Unknown', 'Business', 'Instructional', 'Ferry',\n",
       "       'Executive/corporate', 'Aerial Observation', 'Aerial Application',\n",
       "       'Public Aircraft', 'Skydiving', 'Other Work Use', 'Positioning',\n",
       "       'Flight Test', 'Air Race/Show', 'Air Drop',\n",
       "       'Public Aircraft - Federal', 'Glider Tow',\n",
       "       'Public Aircraft - Local', 'External Load',\n",
       "       'Public Aircraft - State', 'Banner Tow', 'Firefighting'],\n",
       "      dtype=object)"
      ]
     },
     "execution_count": 34,
     "metadata": {},
     "output_type": "execute_result"
    }
   ],
   "source": [
    "#Replacing null values with unknown\n",
    "df['Purpose_of_flight'].fillna(\"Unknown\", inplace=True)\n",
    "df['Purpose_of_flight'].unique()"
   ]
  },
  {
   "cell_type": "markdown",
   "id": "63e858d4",
   "metadata": {},
   "source": [
    "### Cleaning up the `Location`Column"
   ]
  },
  {
   "cell_type": "code",
   "execution_count": 35,
   "id": "31dd38da",
   "metadata": {},
   "outputs": [
    {
     "data": {
      "text/plain": [
       "array(['MOOSE CREEK, ID', 'BRIDGEPORT, CA', 'Saltville, VA', ...,\n",
       "       'San Manual, AZ', 'Auburn Hills, MI', 'Brasnorte, '], dtype=object)"
      ]
     },
     "execution_count": 35,
     "metadata": {},
     "output_type": "execute_result"
    }
   ],
   "source": [
    "#Determining the unique location names\n",
    "df['Location'].unique()"
   ]
  },
  {
   "cell_type": "code",
   "execution_count": 36,
   "id": "d5e1232f",
   "metadata": {},
   "outputs": [
    {
     "data": {
      "text/plain": [
       "ANCHORAGE, AK                434\n",
       "MIAMI, FL                    200\n",
       "ALBUQUERQUE, NM              195\n",
       "HOUSTON, TX                  192\n",
       "CHICAGO, IL                  184\n",
       "                            ... \n",
       "ASHWOOD, OR                    1\n",
       "Yvoy-le-Marron, France         1\n",
       "Juan de Morros, Venezuela      1\n",
       "HUGHES, AK                     1\n",
       "Salem, IL                      1\n",
       "Name: Location, Length: 27758, dtype: int64"
      ]
     },
     "execution_count": 36,
     "metadata": {},
     "output_type": "execute_result"
    }
   ],
   "source": [
    "#Determining the frequency of the location names\n",
    "df['Location'].value_counts()"
   ]
  },
  {
   "cell_type": "code",
   "execution_count": 37,
   "id": "0d5984a0",
   "metadata": {},
   "outputs": [
    {
     "data": {
      "text/plain": [
       "ANCHORAGE, AK                      548\n",
       "MIAMI, FL                          275\n",
       "HOUSTON, TX                        270\n",
       "ALBUQUERQUE, NM                    264\n",
       "CHICAGO, IL                        256\n",
       "                                  ... \n",
       "TISKILWA, IL                         1\n",
       "REDHILL AERODRO, UNITED KINGDOM      1\n",
       "MARION, MS                           1\n",
       "ALGHERO FERTILI, ITALY               1\n",
       "MT. JOY, PA                          1\n",
       "Name: Location, Length: 21978, dtype: int64"
      ]
     },
     "execution_count": 37,
     "metadata": {},
     "output_type": "execute_result"
    }
   ],
   "source": [
    "#Convert all the values in the Location column to uppercase, remove any trailing whitespaces and align them to the left\n",
    "df['Location'] = df['Location'].map(lambda x: str(x).upper().strip().ljust(20))\n",
    "\n",
    "#confirm the changes\n",
    "df['Location'].value_counts()"
   ]
  },
  {
   "cell_type": "code",
   "execution_count": 38,
   "id": "63f6dabb",
   "metadata": {},
   "outputs": [
    {
     "data": {
      "text/plain": [
       "0"
      ]
     },
     "execution_count": 38,
     "metadata": {},
     "output_type": "execute_result"
    }
   ],
   "source": [
    "#Confirming the cleaning\n",
    "df['Location'].isna().sum()"
   ]
  },
  {
   "cell_type": "markdown",
   "id": "0175da66",
   "metadata": {},
   "source": [
    "### Cleaning up `Event_Id`Column\n",
    "\n",
    "\n"
   ]
  },
  {
   "cell_type": "code",
   "execution_count": 39,
   "id": "8468305d",
   "metadata": {},
   "outputs": [
    {
     "data": {
      "text/plain": [
       "array(['20001218X45444', '20001218X45447', '20061025X01555', ...,\n",
       "       '20221227106497', '20221227106498', '20221230106513'], dtype=object)"
      ]
     },
     "execution_count": 39,
     "metadata": {},
     "output_type": "execute_result"
    }
   ],
   "source": [
    "#Confirming the unique values\n",
    "df['Event_Id'].unique()#Not helpful\n"
   ]
  },
  {
   "cell_type": "code",
   "execution_count": 40,
   "id": "ff54c295",
   "metadata": {},
   "outputs": [
    {
     "data": {
      "text/plain": [
       "1"
      ]
     },
     "execution_count": 40,
     "metadata": {},
     "output_type": "execute_result"
    }
   ],
   "source": [
    "#Checking the number of missibg values\n",
    "df['Event_Id'].isna().sum()"
   ]
  },
  {
   "cell_type": "code",
   "execution_count": 41,
   "id": "c072980c",
   "metadata": {},
   "outputs": [],
   "source": [
    "#Dropping the 1 column\n",
    "df['Event_Id'].dropna(inplace=True)"
   ]
  },
  {
   "cell_type": "markdown",
   "id": "d18fc586",
   "metadata": {},
   "source": [
    "### Cleaning up the `Event_Date` column"
   ]
  },
  {
   "cell_type": "code",
   "execution_count": 42,
   "id": "189ddd3c",
   "metadata": {},
   "outputs": [
    {
     "data": {
      "text/plain": [
       "Event_Id                   1\n",
       "Make                      64\n",
       "Model                     93\n",
       "Total_Fatal_Injuries       0\n",
       "Total_Serious_Injuries     0\n",
       "Total_Minor_Injuries       0\n",
       "Total_Uninjured            0\n",
       "Event_Date                 1\n",
       "Location                   0\n",
       "Purpose_of_flight          0\n",
       "Broad_phase_of_flight      0\n",
       "dtype: int64"
      ]
     },
     "execution_count": 42,
     "metadata": {},
     "output_type": "execute_result"
    }
   ],
   "source": [
    "#Checking how  many columns still have missing values\n",
    "df.isna().sum()"
   ]
  },
  {
   "cell_type": "code",
   "execution_count": 43,
   "id": "535af99b",
   "metadata": {},
   "outputs": [],
   "source": [
    "#Since the Event_Date has only 1 missing row i can drop that row first\n",
    "df = df.dropna(subset=['Event_Date'])\n"
   ]
  },
  {
   "cell_type": "code",
   "execution_count": 44,
   "id": "e9226c8a",
   "metadata": {},
   "outputs": [
    {
     "data": {
      "text/plain": [
       "Event_Id                   0\n",
       "Make                      63\n",
       "Model                     92\n",
       "Total_Fatal_Injuries       0\n",
       "Total_Serious_Injuries     0\n",
       "Total_Minor_Injuries       0\n",
       "Total_Uninjured            0\n",
       "Event_Date                 0\n",
       "Location                   0\n",
       "Purpose_of_flight          0\n",
       "Broad_phase_of_flight      0\n",
       "dtype: int64"
      ]
     },
     "execution_count": 44,
     "metadata": {},
     "output_type": "execute_result"
    }
   ],
   "source": [
    "#Confirming the row was dropped \n",
    "df.isna().sum()"
   ]
  },
  {
   "cell_type": "code",
   "execution_count": 45,
   "id": "12af09fe",
   "metadata": {},
   "outputs": [],
   "source": [
    "#Then i want to maybe analyse my datasetint terms of months and years so i can split into two new columns\n",
    "#Converting the event type to date time\n",
    "df['Event_Date'] = pd.to_datetime(df['Event_Date'])\n",
    "\n",
    "\n",
    "#Extracting the year column and month name colum\n",
    "df['Event_Year'] = df['Event_Date'].dt.year\n",
    "df['Event_Month_Name'] = df['Event_Date'].dt.month_name()"
   ]
  },
  {
   "cell_type": "markdown",
   "id": "91b6031f",
   "metadata": {},
   "source": [
    "### Cleaning up the `Make`column\n"
   ]
  },
  {
   "cell_type": "code",
   "execution_count": 46,
   "id": "077b1359",
   "metadata": {},
   "outputs": [
    {
     "data": {
      "text/plain": [
       "Cessna                    22217\n",
       "Piper                     12025\n",
       "CESSNA                     4921\n",
       "Beech                      4329\n",
       "PIPER                      2841\n",
       "                          ...  \n",
       "Knowles                       1\n",
       "Forbes-wolfram Special        1\n",
       "John R Jones                  1\n",
       "STOUT GARRY V                 1\n",
       "HALL                          1\n",
       "Name: Make, Length: 8237, dtype: int64"
      ]
     },
     "execution_count": 46,
     "metadata": {},
     "output_type": "execute_result"
    }
   ],
   "source": [
    "#Determining the frequencies of the make category\n",
    "df['Make'].value_counts()"
   ]
  },
  {
   "cell_type": "code",
   "execution_count": 47,
   "id": "87f0eb2c",
   "metadata": {},
   "outputs": [
    {
     "data": {
      "text/plain": [
       "0"
      ]
     },
     "execution_count": 47,
     "metadata": {},
     "output_type": "execute_result"
    }
   ],
   "source": [
    "#Convert all values to strings (in case of missing or numeric entries) and Format values in title case  for readability\n",
    "\n",
    "df['Make'] = df['Make'].map(lambda x: str(x).title())\n",
    "df['Make'].isna().sum()"
   ]
  },
  {
   "cell_type": "markdown",
   "id": "7faf828e",
   "metadata": {},
   "source": [
    "### Cleaning up the `Model` Column\n"
   ]
  },
  {
   "cell_type": "code",
   "execution_count": 48,
   "id": "6fabe79f",
   "metadata": {},
   "outputs": [
    {
     "data": {
      "text/plain": [
       "array(['108-3', 'PA24-180', '172M', ..., 'ROTORWAY EXEC 162-F',\n",
       "       'KITFOX S5', 'M-8 EAGLE'], dtype=object)"
      ]
     },
     "execution_count": 48,
     "metadata": {},
     "output_type": "execute_result"
    }
   ],
   "source": [
    "#First trying to see the unique values of the model column\n",
    "\n",
    "df['Model'].unique() #There are too many unique values\n"
   ]
  },
  {
   "cell_type": "code",
   "execution_count": 49,
   "id": "30c570bc",
   "metadata": {},
   "outputs": [
    {
     "data": {
      "text/plain": [
       "152                2362\n",
       "172                1755\n",
       "172N               1164\n",
       "PA-28-140           932\n",
       "150                 829\n",
       "                   ... \n",
       "ASW 28                1\n",
       "FP 202 KOALA          1\n",
       "Bede-4                1\n",
       "Velocity LWFG-E       1\n",
       "SR                    1\n",
       "Name: Model, Length: 12318, dtype: int64"
      ]
     },
     "execution_count": 49,
     "metadata": {},
     "output_type": "execute_result"
    }
   ],
   "source": [
    "#Seeing the frequency of the model names\n",
    "df['Model'].value_counts() #I can see there is a mixture of labeling the model names"
   ]
  },
  {
   "cell_type": "code",
   "execution_count": 50,
   "id": "a823af0b",
   "metadata": {},
   "outputs": [
    {
     "data": {
      "text/plain": [
       "0"
      ]
     },
     "execution_count": 50,
     "metadata": {},
     "output_type": "execute_result"
    }
   ],
   "source": [
    "#convert the model column into uppercase, strip any whitespace \n",
    "df['Model'] = df['Model'].map(lambda x: str(x).strip().upper())\n",
    "\n",
    "#check to see if the null values have been removed\n",
    "df['Model'].isnull().sum()"
   ]
  },
  {
   "cell_type": "markdown",
   "id": "3634baf7",
   "metadata": {},
   "source": [
    "### Confirming that all relevant columns are cleaned"
   ]
  },
  {
   "cell_type": "code",
   "execution_count": 51,
   "id": "ed1c567d",
   "metadata": {},
   "outputs": [
    {
     "name": "stdout",
     "output_type": "stream",
     "text": [
      "<class 'pandas.core.frame.DataFrame'>\n",
      "Int64Index: 88841 entries, 0 to 90347\n",
      "Data columns (total 13 columns):\n",
      " #   Column                  Non-Null Count  Dtype         \n",
      "---  ------                  --------------  -----         \n",
      " 0   Event_Id                88841 non-null  object        \n",
      " 1   Make                    88841 non-null  object        \n",
      " 2   Model                   88841 non-null  object        \n",
      " 3   Total_Fatal_Injuries    88841 non-null  float64       \n",
      " 4   Total_Serious_Injuries  88841 non-null  float64       \n",
      " 5   Total_Minor_Injuries    88841 non-null  float64       \n",
      " 6   Total_Uninjured         88841 non-null  float64       \n",
      " 7   Event_Date              88841 non-null  datetime64[ns]\n",
      " 8   Location                88841 non-null  object        \n",
      " 9   Purpose_of_flight       88841 non-null  object        \n",
      " 10  Broad_phase_of_flight   88841 non-null  object        \n",
      " 11  Event_Year              88841 non-null  int64         \n",
      " 12  Event_Month_Name        88841 non-null  object        \n",
      "dtypes: datetime64[ns](1), float64(4), int64(1), object(7)\n",
      "memory usage: 9.5+ MB\n"
     ]
    }
   ],
   "source": [
    "#Looking at the basic info of the relevant columns\n",
    "df.info()"
   ]
  },
  {
   "cell_type": "code",
   "execution_count": 52,
   "id": "7aeada77",
   "metadata": {},
   "outputs": [
    {
     "data": {
      "text/plain": [
       "Event_Id                  0\n",
       "Make                      0\n",
       "Model                     0\n",
       "Total_Fatal_Injuries      0\n",
       "Total_Serious_Injuries    0\n",
       "Total_Minor_Injuries      0\n",
       "Total_Uninjured           0\n",
       "Event_Date                0\n",
       "Location                  0\n",
       "Purpose_of_flight         0\n",
       "Broad_phase_of_flight     0\n",
       "Event_Year                0\n",
       "Event_Month_Name          0\n",
       "dtype: int64"
      ]
     },
     "execution_count": 52,
     "metadata": {},
     "output_type": "execute_result"
    }
   ],
   "source": [
    "#Checking for null values\n",
    "df.isna().sum()"
   ]
  },
  {
   "cell_type": "code",
   "execution_count": 53,
   "id": "f7c67651",
   "metadata": {},
   "outputs": [
    {
     "data": {
      "text/plain": [
       "6"
      ]
     },
     "execution_count": 53,
     "metadata": {},
     "output_type": "execute_result"
    }
   ],
   "source": [
    "#Checking for duplicates\n",
    "df.duplicated().sum()"
   ]
  },
  {
   "cell_type": "code",
   "execution_count": 54,
   "id": "f2856524",
   "metadata": {},
   "outputs": [
    {
     "data": {
      "text/html": [
       "<div>\n",
       "<style scoped>\n",
       "    .dataframe tbody tr th:only-of-type {\n",
       "        vertical-align: middle;\n",
       "    }\n",
       "\n",
       "    .dataframe tbody tr th {\n",
       "        vertical-align: top;\n",
       "    }\n",
       "\n",
       "    .dataframe thead th {\n",
       "        text-align: right;\n",
       "    }\n",
       "</style>\n",
       "<table border=\"1\" class=\"dataframe\">\n",
       "  <thead>\n",
       "    <tr style=\"text-align: right;\">\n",
       "      <th></th>\n",
       "      <th>Event_Id</th>\n",
       "      <th>Make</th>\n",
       "      <th>Model</th>\n",
       "      <th>Total_Fatal_Injuries</th>\n",
       "      <th>Total_Serious_Injuries</th>\n",
       "      <th>Total_Minor_Injuries</th>\n",
       "      <th>Total_Uninjured</th>\n",
       "      <th>Event_Date</th>\n",
       "      <th>Location</th>\n",
       "      <th>Purpose_of_flight</th>\n",
       "      <th>Broad_phase_of_flight</th>\n",
       "      <th>Event_Year</th>\n",
       "      <th>Event_Month_Name</th>\n",
       "    </tr>\n",
       "  </thead>\n",
       "  <tbody>\n",
       "    <tr>\n",
       "      <th>45862</th>\n",
       "      <td>20001205X00478</td>\n",
       "      <td>Bell</td>\n",
       "      <td>UH1-B</td>\n",
       "      <td>0.0</td>\n",
       "      <td>0.0</td>\n",
       "      <td>0.0</td>\n",
       "      <td>5.0</td>\n",
       "      <td>1999-04-04</td>\n",
       "      <td>MEXICO CITY, MEXICO</td>\n",
       "      <td>Positioning</td>\n",
       "      <td>Missing</td>\n",
       "      <td>1999</td>\n",
       "      <td>April</td>\n",
       "    </tr>\n",
       "    <tr>\n",
       "      <th>45866</th>\n",
       "      <td>20001205X00478</td>\n",
       "      <td>Bell</td>\n",
       "      <td>UH1-B</td>\n",
       "      <td>0.0</td>\n",
       "      <td>0.0</td>\n",
       "      <td>0.0</td>\n",
       "      <td>5.0</td>\n",
       "      <td>1999-04-04</td>\n",
       "      <td>MEXICO CITY, MEXICO</td>\n",
       "      <td>Positioning</td>\n",
       "      <td>Missing</td>\n",
       "      <td>1999</td>\n",
       "      <td>April</td>\n",
       "    </tr>\n",
       "    <tr>\n",
       "      <th>56780</th>\n",
       "      <td>20040616X00799</td>\n",
       "      <td>Air Tractor</td>\n",
       "      <td>AT-502B</td>\n",
       "      <td>0.0</td>\n",
       "      <td>0.0</td>\n",
       "      <td>0.0</td>\n",
       "      <td>2.0</td>\n",
       "      <td>2004-06-03</td>\n",
       "      <td>WELDON, AR</td>\n",
       "      <td>Aerial Application</td>\n",
       "      <td>Landing</td>\n",
       "      <td>2004</td>\n",
       "      <td>June</td>\n",
       "    </tr>\n",
       "    <tr>\n",
       "      <th>56783</th>\n",
       "      <td>20040616X00799</td>\n",
       "      <td>Air Tractor</td>\n",
       "      <td>AT-502B</td>\n",
       "      <td>0.0</td>\n",
       "      <td>0.0</td>\n",
       "      <td>0.0</td>\n",
       "      <td>2.0</td>\n",
       "      <td>2004-06-03</td>\n",
       "      <td>WELDON, AR</td>\n",
       "      <td>Aerial Application</td>\n",
       "      <td>Landing</td>\n",
       "      <td>2004</td>\n",
       "      <td>June</td>\n",
       "    </tr>\n",
       "    <tr>\n",
       "      <th>60183</th>\n",
       "      <td>20060209X00189</td>\n",
       "      <td>Short Brothers</td>\n",
       "      <td>SD-360-300</td>\n",
       "      <td>3.0</td>\n",
       "      <td>0.0</td>\n",
       "      <td>1.0</td>\n",
       "      <td>2.0</td>\n",
       "      <td>2006-02-05</td>\n",
       "      <td>WATERTOWN, WI</td>\n",
       "      <td>Other Work Use</td>\n",
       "      <td>Maneuvering</td>\n",
       "      <td>2006</td>\n",
       "      <td>February</td>\n",
       "    </tr>\n",
       "    <tr>\n",
       "      <th>60184</th>\n",
       "      <td>20060209X00189</td>\n",
       "      <td>Short Brothers</td>\n",
       "      <td>SD-360-300</td>\n",
       "      <td>3.0</td>\n",
       "      <td>0.0</td>\n",
       "      <td>1.0</td>\n",
       "      <td>2.0</td>\n",
       "      <td>2006-02-05</td>\n",
       "      <td>WATERTOWN, WI</td>\n",
       "      <td>Other Work Use</td>\n",
       "      <td>Maneuvering</td>\n",
       "      <td>2006</td>\n",
       "      <td>February</td>\n",
       "    </tr>\n",
       "    <tr>\n",
       "      <th>61448</th>\n",
       "      <td>20061020X01542</td>\n",
       "      <td>Piper</td>\n",
       "      <td>PA-28-181</td>\n",
       "      <td>1.0</td>\n",
       "      <td>0.0</td>\n",
       "      <td>0.0</td>\n",
       "      <td>4.0</td>\n",
       "      <td>2006-09-22</td>\n",
       "      <td>BAD SCHWARTAU, GERMANY</td>\n",
       "      <td>Unknown</td>\n",
       "      <td>Missing</td>\n",
       "      <td>2006</td>\n",
       "      <td>September</td>\n",
       "    </tr>\n",
       "    <tr>\n",
       "      <th>61455</th>\n",
       "      <td>20061020X01542</td>\n",
       "      <td>Piper</td>\n",
       "      <td>PA-28-181</td>\n",
       "      <td>1.0</td>\n",
       "      <td>0.0</td>\n",
       "      <td>0.0</td>\n",
       "      <td>4.0</td>\n",
       "      <td>2006-09-22</td>\n",
       "      <td>BAD SCHWARTAU, GERMANY</td>\n",
       "      <td>Unknown</td>\n",
       "      <td>Missing</td>\n",
       "      <td>2006</td>\n",
       "      <td>September</td>\n",
       "    </tr>\n",
       "    <tr>\n",
       "      <th>61664</th>\n",
       "      <td>20070227X00233</td>\n",
       "      <td>Cessna</td>\n",
       "      <td>152</td>\n",
       "      <td>0.0</td>\n",
       "      <td>0.0</td>\n",
       "      <td>0.0</td>\n",
       "      <td>2.0</td>\n",
       "      <td>2006-11-07</td>\n",
       "      <td>MONROE, LA</td>\n",
       "      <td>Personal</td>\n",
       "      <td>Approach</td>\n",
       "      <td>2006</td>\n",
       "      <td>November</td>\n",
       "    </tr>\n",
       "    <tr>\n",
       "      <th>61668</th>\n",
       "      <td>20070227X00233</td>\n",
       "      <td>Cessna</td>\n",
       "      <td>152</td>\n",
       "      <td>0.0</td>\n",
       "      <td>0.0</td>\n",
       "      <td>0.0</td>\n",
       "      <td>2.0</td>\n",
       "      <td>2006-11-07</td>\n",
       "      <td>MONROE, LA</td>\n",
       "      <td>Personal</td>\n",
       "      <td>Approach</td>\n",
       "      <td>2006</td>\n",
       "      <td>November</td>\n",
       "    </tr>\n",
       "    <tr>\n",
       "      <th>63514</th>\n",
       "      <td>20071018X01611</td>\n",
       "      <td>Yakovlev</td>\n",
       "      <td>YAK-50</td>\n",
       "      <td>0.0</td>\n",
       "      <td>0.0</td>\n",
       "      <td>0.0</td>\n",
       "      <td>2.0</td>\n",
       "      <td>2007-10-06</td>\n",
       "      <td>EL CAJON, CA</td>\n",
       "      <td>Personal</td>\n",
       "      <td>Landing</td>\n",
       "      <td>2007</td>\n",
       "      <td>October</td>\n",
       "    </tr>\n",
       "    <tr>\n",
       "      <th>63519</th>\n",
       "      <td>20071018X01611</td>\n",
       "      <td>Yakovlev</td>\n",
       "      <td>YAK-50</td>\n",
       "      <td>0.0</td>\n",
       "      <td>0.0</td>\n",
       "      <td>0.0</td>\n",
       "      <td>2.0</td>\n",
       "      <td>2007-10-06</td>\n",
       "      <td>EL CAJON, CA</td>\n",
       "      <td>Personal</td>\n",
       "      <td>Landing</td>\n",
       "      <td>2007</td>\n",
       "      <td>October</td>\n",
       "    </tr>\n",
       "  </tbody>\n",
       "</table>\n",
       "</div>"
      ],
      "text/plain": [
       "             Event_Id            Make       Model  Total_Fatal_Injuries  \\\n",
       "45862  20001205X00478            Bell       UH1-B                   0.0   \n",
       "45866  20001205X00478            Bell       UH1-B                   0.0   \n",
       "56780  20040616X00799     Air Tractor     AT-502B                   0.0   \n",
       "56783  20040616X00799     Air Tractor     AT-502B                   0.0   \n",
       "60183  20060209X00189  Short Brothers  SD-360-300                   3.0   \n",
       "60184  20060209X00189  Short Brothers  SD-360-300                   3.0   \n",
       "61448  20061020X01542           Piper   PA-28-181                   1.0   \n",
       "61455  20061020X01542           Piper   PA-28-181                   1.0   \n",
       "61664  20070227X00233          Cessna         152                   0.0   \n",
       "61668  20070227X00233          Cessna         152                   0.0   \n",
       "63514  20071018X01611        Yakovlev      YAK-50                   0.0   \n",
       "63519  20071018X01611        Yakovlev      YAK-50                   0.0   \n",
       "\n",
       "       Total_Serious_Injuries  Total_Minor_Injuries  Total_Uninjured  \\\n",
       "45862                     0.0                   0.0              5.0   \n",
       "45866                     0.0                   0.0              5.0   \n",
       "56780                     0.0                   0.0              2.0   \n",
       "56783                     0.0                   0.0              2.0   \n",
       "60183                     0.0                   1.0              2.0   \n",
       "60184                     0.0                   1.0              2.0   \n",
       "61448                     0.0                   0.0              4.0   \n",
       "61455                     0.0                   0.0              4.0   \n",
       "61664                     0.0                   0.0              2.0   \n",
       "61668                     0.0                   0.0              2.0   \n",
       "63514                     0.0                   0.0              2.0   \n",
       "63519                     0.0                   0.0              2.0   \n",
       "\n",
       "      Event_Date                Location   Purpose_of_flight  \\\n",
       "45862 1999-04-04    MEXICO CITY, MEXICO          Positioning   \n",
       "45866 1999-04-04    MEXICO CITY, MEXICO          Positioning   \n",
       "56780 2004-06-03    WELDON, AR            Aerial Application   \n",
       "56783 2004-06-03    WELDON, AR            Aerial Application   \n",
       "60183 2006-02-05    WATERTOWN, WI             Other Work Use   \n",
       "60184 2006-02-05    WATERTOWN, WI             Other Work Use   \n",
       "61448 2006-09-22  BAD SCHWARTAU, GERMANY             Unknown   \n",
       "61455 2006-09-22  BAD SCHWARTAU, GERMANY             Unknown   \n",
       "61664 2006-11-07    MONROE, LA                      Personal   \n",
       "61668 2006-11-07    MONROE, LA                      Personal   \n",
       "63514 2007-10-06    EL CAJON, CA                    Personal   \n",
       "63519 2007-10-06    EL CAJON, CA                    Personal   \n",
       "\n",
       "      Broad_phase_of_flight  Event_Year Event_Month_Name  \n",
       "45862               Missing        1999            April  \n",
       "45866               Missing        1999            April  \n",
       "56780               Landing        2004             June  \n",
       "56783               Landing        2004             June  \n",
       "60183           Maneuvering        2006         February  \n",
       "60184           Maneuvering        2006         February  \n",
       "61448               Missing        2006        September  \n",
       "61455               Missing        2006        September  \n",
       "61664              Approach        2006         November  \n",
       "61668              Approach        2006         November  \n",
       "63514               Landing        2007          October  \n",
       "63519               Landing        2007          October  "
      ]
     },
     "execution_count": 54,
     "metadata": {},
     "output_type": "execute_result"
    }
   ],
   "source": [
    "#To view the duplicated entries\n",
    "df[df.duplicated(keep= False)]"
   ]
  },
  {
   "cell_type": "code",
   "execution_count": 55,
   "id": "de0042fe",
   "metadata": {},
   "outputs": [],
   "source": [
    "#Dropping the 6 duplicates\n",
    "df=df.drop_duplicates()"
   ]
  },
  {
   "cell_type": "code",
   "execution_count": 56,
   "id": "1916d165",
   "metadata": {},
   "outputs": [
    {
     "data": {
      "text/plain": [
       "0"
      ]
     },
     "execution_count": 56,
     "metadata": {},
     "output_type": "execute_result"
    }
   ],
   "source": [
    "#Confirming the duplicates were dropped\n",
    "df.duplicated().sum()"
   ]
  },
  {
   "cell_type": "code",
   "execution_count": 57,
   "id": "242c3435",
   "metadata": {},
   "outputs": [
    {
     "data": {
      "text/html": [
       "<div>\n",
       "<style scoped>\n",
       "    .dataframe tbody tr th:only-of-type {\n",
       "        vertical-align: middle;\n",
       "    }\n",
       "\n",
       "    .dataframe tbody tr th {\n",
       "        vertical-align: top;\n",
       "    }\n",
       "\n",
       "    .dataframe thead th {\n",
       "        text-align: right;\n",
       "    }\n",
       "</style>\n",
       "<table border=\"1\" class=\"dataframe\">\n",
       "  <thead>\n",
       "    <tr style=\"text-align: right;\">\n",
       "      <th></th>\n",
       "      <th>Event_Id</th>\n",
       "      <th>Make</th>\n",
       "      <th>Model</th>\n",
       "      <th>Total_Fatal_Injuries</th>\n",
       "      <th>Total_Serious_Injuries</th>\n",
       "      <th>Total_Minor_Injuries</th>\n",
       "      <th>Total_Uninjured</th>\n",
       "      <th>Event_Date</th>\n",
       "      <th>Location</th>\n",
       "      <th>Purpose_of_flight</th>\n",
       "      <th>Broad_phase_of_flight</th>\n",
       "      <th>Event_Year</th>\n",
       "      <th>Event_Month_Name</th>\n",
       "    </tr>\n",
       "  </thead>\n",
       "  <tbody>\n",
       "    <tr>\n",
       "      <th>0</th>\n",
       "      <td>20001218X45444</td>\n",
       "      <td>Stinson</td>\n",
       "      <td>108-3</td>\n",
       "      <td>2.0</td>\n",
       "      <td>0.0</td>\n",
       "      <td>0.0</td>\n",
       "      <td>0.0</td>\n",
       "      <td>1948-10-24</td>\n",
       "      <td>MOOSE CREEK, ID</td>\n",
       "      <td>Personal</td>\n",
       "      <td>Cruise</td>\n",
       "      <td>1948</td>\n",
       "      <td>October</td>\n",
       "    </tr>\n",
       "    <tr>\n",
       "      <th>1</th>\n",
       "      <td>20001218X45447</td>\n",
       "      <td>Piper</td>\n",
       "      <td>PA24-180</td>\n",
       "      <td>4.0</td>\n",
       "      <td>0.0</td>\n",
       "      <td>0.0</td>\n",
       "      <td>0.0</td>\n",
       "      <td>1962-07-19</td>\n",
       "      <td>BRIDGEPORT, CA</td>\n",
       "      <td>Personal</td>\n",
       "      <td>Unknown</td>\n",
       "      <td>1962</td>\n",
       "      <td>July</td>\n",
       "    </tr>\n",
       "    <tr>\n",
       "      <th>2</th>\n",
       "      <td>20061025X01555</td>\n",
       "      <td>Cessna</td>\n",
       "      <td>172M</td>\n",
       "      <td>3.0</td>\n",
       "      <td>0.0</td>\n",
       "      <td>0.0</td>\n",
       "      <td>1.0</td>\n",
       "      <td>1974-08-30</td>\n",
       "      <td>SALTVILLE, VA</td>\n",
       "      <td>Personal</td>\n",
       "      <td>Cruise</td>\n",
       "      <td>1974</td>\n",
       "      <td>August</td>\n",
       "    </tr>\n",
       "    <tr>\n",
       "      <th>3</th>\n",
       "      <td>20001218X45448</td>\n",
       "      <td>Rockwell</td>\n",
       "      <td>112</td>\n",
       "      <td>2.0</td>\n",
       "      <td>0.0</td>\n",
       "      <td>0.0</td>\n",
       "      <td>0.0</td>\n",
       "      <td>1977-06-19</td>\n",
       "      <td>EUREKA, CA</td>\n",
       "      <td>Personal</td>\n",
       "      <td>Cruise</td>\n",
       "      <td>1977</td>\n",
       "      <td>June</td>\n",
       "    </tr>\n",
       "    <tr>\n",
       "      <th>4</th>\n",
       "      <td>20041105X01764</td>\n",
       "      <td>Cessna</td>\n",
       "      <td>501</td>\n",
       "      <td>1.0</td>\n",
       "      <td>2.0</td>\n",
       "      <td>0.0</td>\n",
       "      <td>0.0</td>\n",
       "      <td>1979-08-02</td>\n",
       "      <td>CANTON, OH</td>\n",
       "      <td>Personal</td>\n",
       "      <td>Approach</td>\n",
       "      <td>1979</td>\n",
       "      <td>August</td>\n",
       "    </tr>\n",
       "    <tr>\n",
       "      <th>5</th>\n",
       "      <td>20170710X52551</td>\n",
       "      <td>Mcdonnell Douglas</td>\n",
       "      <td>DC9</td>\n",
       "      <td>0.0</td>\n",
       "      <td>0.0</td>\n",
       "      <td>1.0</td>\n",
       "      <td>44.0</td>\n",
       "      <td>1979-09-17</td>\n",
       "      <td>BOSTON, MA</td>\n",
       "      <td>Unknown</td>\n",
       "      <td>Climb</td>\n",
       "      <td>1979</td>\n",
       "      <td>September</td>\n",
       "    </tr>\n",
       "    <tr>\n",
       "      <th>6</th>\n",
       "      <td>20001218X45446</td>\n",
       "      <td>Cessna</td>\n",
       "      <td>180</td>\n",
       "      <td>4.0</td>\n",
       "      <td>0.0</td>\n",
       "      <td>0.0</td>\n",
       "      <td>0.0</td>\n",
       "      <td>1981-08-01</td>\n",
       "      <td>COTTON, MN</td>\n",
       "      <td>Personal</td>\n",
       "      <td>Unknown</td>\n",
       "      <td>1981</td>\n",
       "      <td>August</td>\n",
       "    </tr>\n",
       "    <tr>\n",
       "      <th>7</th>\n",
       "      <td>20020909X01562</td>\n",
       "      <td>Cessna</td>\n",
       "      <td>140</td>\n",
       "      <td>0.0</td>\n",
       "      <td>0.0</td>\n",
       "      <td>0.0</td>\n",
       "      <td>2.0</td>\n",
       "      <td>1982-01-01</td>\n",
       "      <td>PULLMAN, WA</td>\n",
       "      <td>Personal</td>\n",
       "      <td>Takeoff</td>\n",
       "      <td>1982</td>\n",
       "      <td>January</td>\n",
       "    </tr>\n",
       "    <tr>\n",
       "      <th>8</th>\n",
       "      <td>20020909X01561</td>\n",
       "      <td>Cessna</td>\n",
       "      <td>401B</td>\n",
       "      <td>0.0</td>\n",
       "      <td>0.0</td>\n",
       "      <td>0.0</td>\n",
       "      <td>2.0</td>\n",
       "      <td>1982-01-01</td>\n",
       "      <td>EAST HANOVER, NJ</td>\n",
       "      <td>Business</td>\n",
       "      <td>Landing</td>\n",
       "      <td>1982</td>\n",
       "      <td>January</td>\n",
       "    </tr>\n",
       "    <tr>\n",
       "      <th>9</th>\n",
       "      <td>20020909X01560</td>\n",
       "      <td>North American</td>\n",
       "      <td>NAVION L-17B</td>\n",
       "      <td>0.0</td>\n",
       "      <td>0.0</td>\n",
       "      <td>3.0</td>\n",
       "      <td>0.0</td>\n",
       "      <td>1982-01-01</td>\n",
       "      <td>JACKSONVILLE, FL</td>\n",
       "      <td>Personal</td>\n",
       "      <td>Cruise</td>\n",
       "      <td>1982</td>\n",
       "      <td>January</td>\n",
       "    </tr>\n",
       "  </tbody>\n",
       "</table>\n",
       "</div>"
      ],
      "text/plain": [
       "         Event_Id               Make         Model  Total_Fatal_Injuries  \\\n",
       "0  20001218X45444            Stinson         108-3                   2.0   \n",
       "1  20001218X45447              Piper      PA24-180                   4.0   \n",
       "2  20061025X01555             Cessna          172M                   3.0   \n",
       "3  20001218X45448           Rockwell           112                   2.0   \n",
       "4  20041105X01764             Cessna           501                   1.0   \n",
       "5  20170710X52551  Mcdonnell Douglas           DC9                   0.0   \n",
       "6  20001218X45446             Cessna           180                   4.0   \n",
       "7  20020909X01562             Cessna           140                   0.0   \n",
       "8  20020909X01561             Cessna          401B                   0.0   \n",
       "9  20020909X01560     North American  NAVION L-17B                   0.0   \n",
       "\n",
       "   Total_Serious_Injuries  Total_Minor_Injuries  Total_Uninjured Event_Date  \\\n",
       "0                     0.0                   0.0              0.0 1948-10-24   \n",
       "1                     0.0                   0.0              0.0 1962-07-19   \n",
       "2                     0.0                   0.0              1.0 1974-08-30   \n",
       "3                     0.0                   0.0              0.0 1977-06-19   \n",
       "4                     2.0                   0.0              0.0 1979-08-02   \n",
       "5                     0.0                   1.0             44.0 1979-09-17   \n",
       "6                     0.0                   0.0              0.0 1981-08-01   \n",
       "7                     0.0                   0.0              2.0 1982-01-01   \n",
       "8                     0.0                   0.0              2.0 1982-01-01   \n",
       "9                     0.0                   3.0              0.0 1982-01-01   \n",
       "\n",
       "               Location Purpose_of_flight Broad_phase_of_flight  Event_Year  \\\n",
       "0  MOOSE CREEK, ID               Personal                Cruise        1948   \n",
       "1  BRIDGEPORT, CA                Personal               Unknown        1962   \n",
       "2  SALTVILLE, VA                 Personal                Cruise        1974   \n",
       "3  EUREKA, CA                    Personal                Cruise        1977   \n",
       "4  CANTON, OH                    Personal              Approach        1979   \n",
       "5  BOSTON, MA                     Unknown                 Climb        1979   \n",
       "6  COTTON, MN                    Personal               Unknown        1981   \n",
       "7  PULLMAN, WA                   Personal               Takeoff        1982   \n",
       "8  EAST HANOVER, NJ              Business               Landing        1982   \n",
       "9  JACKSONVILLE, FL              Personal                Cruise        1982   \n",
       "\n",
       "  Event_Month_Name  \n",
       "0          October  \n",
       "1             July  \n",
       "2           August  \n",
       "3             June  \n",
       "4           August  \n",
       "5        September  \n",
       "6           August  \n",
       "7          January  \n",
       "8          January  \n",
       "9          January  "
      ]
     },
     "execution_count": 57,
     "metadata": {},
     "output_type": "execute_result"
    }
   ],
   "source": [
    "#Checking the first 10 rows and last 10 rows\n",
    "\n",
    "df.head(10)"
   ]
  },
  {
   "cell_type": "code",
   "execution_count": 58,
   "id": "ede0cd09",
   "metadata": {},
   "outputs": [
    {
     "data": {
      "text/html": [
       "<div>\n",
       "<style scoped>\n",
       "    .dataframe tbody tr th:only-of-type {\n",
       "        vertical-align: middle;\n",
       "    }\n",
       "\n",
       "    .dataframe tbody tr th {\n",
       "        vertical-align: top;\n",
       "    }\n",
       "\n",
       "    .dataframe thead th {\n",
       "        text-align: right;\n",
       "    }\n",
       "</style>\n",
       "<table border=\"1\" class=\"dataframe\">\n",
       "  <thead>\n",
       "    <tr style=\"text-align: right;\">\n",
       "      <th></th>\n",
       "      <th>Event_Id</th>\n",
       "      <th>Make</th>\n",
       "      <th>Model</th>\n",
       "      <th>Total_Fatal_Injuries</th>\n",
       "      <th>Total_Serious_Injuries</th>\n",
       "      <th>Total_Minor_Injuries</th>\n",
       "      <th>Total_Uninjured</th>\n",
       "      <th>Event_Date</th>\n",
       "      <th>Location</th>\n",
       "      <th>Purpose_of_flight</th>\n",
       "      <th>Broad_phase_of_flight</th>\n",
       "      <th>Event_Year</th>\n",
       "      <th>Event_Month_Name</th>\n",
       "    </tr>\n",
       "  </thead>\n",
       "  <tbody>\n",
       "    <tr>\n",
       "      <th>90338</th>\n",
       "      <td>20221219106472</td>\n",
       "      <td>Airbus</td>\n",
       "      <td>A330-243</td>\n",
       "      <td>0.0</td>\n",
       "      <td>0.0</td>\n",
       "      <td>0.0</td>\n",
       "      <td>0.0</td>\n",
       "      <td>2022-12-18</td>\n",
       "      <td>KAHULUI, HI</td>\n",
       "      <td>Unknown</td>\n",
       "      <td>Missing</td>\n",
       "      <td>2022</td>\n",
       "      <td>December</td>\n",
       "    </tr>\n",
       "    <tr>\n",
       "      <th>90339</th>\n",
       "      <td>20221219106477</td>\n",
       "      <td>Piper</td>\n",
       "      <td>PA28</td>\n",
       "      <td>0.0</td>\n",
       "      <td>0.0</td>\n",
       "      <td>0.0</td>\n",
       "      <td>3.0</td>\n",
       "      <td>2022-12-18</td>\n",
       "      <td>SAN MANUAL, AZ</td>\n",
       "      <td>Personal</td>\n",
       "      <td>Missing</td>\n",
       "      <td>2022</td>\n",
       "      <td>December</td>\n",
       "    </tr>\n",
       "    <tr>\n",
       "      <th>90340</th>\n",
       "      <td>20221221106483</td>\n",
       "      <td>Cessna</td>\n",
       "      <td>172F</td>\n",
       "      <td>0.0</td>\n",
       "      <td>1.0</td>\n",
       "      <td>0.0</td>\n",
       "      <td>0.0</td>\n",
       "      <td>2022-12-21</td>\n",
       "      <td>AUBURN HILLS, MI</td>\n",
       "      <td>Personal</td>\n",
       "      <td>Missing</td>\n",
       "      <td>2022</td>\n",
       "      <td>December</td>\n",
       "    </tr>\n",
       "    <tr>\n",
       "      <th>90341</th>\n",
       "      <td>20221222106486</td>\n",
       "      <td>Grumman American Avn. Corp.</td>\n",
       "      <td>AA-5B</td>\n",
       "      <td>0.0</td>\n",
       "      <td>1.0</td>\n",
       "      <td>0.0</td>\n",
       "      <td>1.0</td>\n",
       "      <td>2022-12-21</td>\n",
       "      <td>RESERVE, LA</td>\n",
       "      <td>Instructional</td>\n",
       "      <td>Missing</td>\n",
       "      <td>2022</td>\n",
       "      <td>December</td>\n",
       "    </tr>\n",
       "    <tr>\n",
       "      <th>90342</th>\n",
       "      <td>20221228106502</td>\n",
       "      <td>Air Tractor</td>\n",
       "      <td>AT502</td>\n",
       "      <td>1.0</td>\n",
       "      <td>0.0</td>\n",
       "      <td>0.0</td>\n",
       "      <td>0.0</td>\n",
       "      <td>2022-12-22</td>\n",
       "      <td>BRASNORTE,</td>\n",
       "      <td>Unknown</td>\n",
       "      <td>Missing</td>\n",
       "      <td>2022</td>\n",
       "      <td>December</td>\n",
       "    </tr>\n",
       "    <tr>\n",
       "      <th>90343</th>\n",
       "      <td>20221227106491</td>\n",
       "      <td>Piper</td>\n",
       "      <td>PA-28-151</td>\n",
       "      <td>0.0</td>\n",
       "      <td>1.0</td>\n",
       "      <td>0.0</td>\n",
       "      <td>0.0</td>\n",
       "      <td>2022-12-26</td>\n",
       "      <td>ANNAPOLIS, MD</td>\n",
       "      <td>Personal</td>\n",
       "      <td>Missing</td>\n",
       "      <td>2022</td>\n",
       "      <td>December</td>\n",
       "    </tr>\n",
       "    <tr>\n",
       "      <th>90344</th>\n",
       "      <td>20221227106494</td>\n",
       "      <td>Bellanca</td>\n",
       "      <td>7ECA</td>\n",
       "      <td>0.0</td>\n",
       "      <td>0.0</td>\n",
       "      <td>0.0</td>\n",
       "      <td>0.0</td>\n",
       "      <td>2022-12-26</td>\n",
       "      <td>HAMPTON, NH</td>\n",
       "      <td>Unknown</td>\n",
       "      <td>Missing</td>\n",
       "      <td>2022</td>\n",
       "      <td>December</td>\n",
       "    </tr>\n",
       "    <tr>\n",
       "      <th>90345</th>\n",
       "      <td>20221227106497</td>\n",
       "      <td>American Champion Aircraft</td>\n",
       "      <td>8GCBC</td>\n",
       "      <td>0.0</td>\n",
       "      <td>0.0</td>\n",
       "      <td>0.0</td>\n",
       "      <td>1.0</td>\n",
       "      <td>2022-12-26</td>\n",
       "      <td>PAYSON, AZ</td>\n",
       "      <td>Personal</td>\n",
       "      <td>Missing</td>\n",
       "      <td>2022</td>\n",
       "      <td>December</td>\n",
       "    </tr>\n",
       "    <tr>\n",
       "      <th>90346</th>\n",
       "      <td>20221227106498</td>\n",
       "      <td>Cessna</td>\n",
       "      <td>210N</td>\n",
       "      <td>0.0</td>\n",
       "      <td>0.0</td>\n",
       "      <td>0.0</td>\n",
       "      <td>0.0</td>\n",
       "      <td>2022-12-26</td>\n",
       "      <td>MORGAN, UT</td>\n",
       "      <td>Personal</td>\n",
       "      <td>Missing</td>\n",
       "      <td>2022</td>\n",
       "      <td>December</td>\n",
       "    </tr>\n",
       "    <tr>\n",
       "      <th>90347</th>\n",
       "      <td>20221230106513</td>\n",
       "      <td>Piper</td>\n",
       "      <td>PA-24-260</td>\n",
       "      <td>0.0</td>\n",
       "      <td>1.0</td>\n",
       "      <td>0.0</td>\n",
       "      <td>1.0</td>\n",
       "      <td>2022-12-29</td>\n",
       "      <td>ATHENS, GA</td>\n",
       "      <td>Personal</td>\n",
       "      <td>Missing</td>\n",
       "      <td>2022</td>\n",
       "      <td>December</td>\n",
       "    </tr>\n",
       "  </tbody>\n",
       "</table>\n",
       "</div>"
      ],
      "text/plain": [
       "             Event_Id                         Make      Model  \\\n",
       "90338  20221219106472                       Airbus   A330-243   \n",
       "90339  20221219106477                        Piper       PA28   \n",
       "90340  20221221106483                       Cessna       172F   \n",
       "90341  20221222106486  Grumman American Avn. Corp.      AA-5B   \n",
       "90342  20221228106502                  Air Tractor      AT502   \n",
       "90343  20221227106491                        Piper  PA-28-151   \n",
       "90344  20221227106494                     Bellanca       7ECA   \n",
       "90345  20221227106497   American Champion Aircraft      8GCBC   \n",
       "90346  20221227106498                       Cessna       210N   \n",
       "90347  20221230106513                        Piper  PA-24-260   \n",
       "\n",
       "       Total_Fatal_Injuries  Total_Serious_Injuries  Total_Minor_Injuries  \\\n",
       "90338                   0.0                     0.0                   0.0   \n",
       "90339                   0.0                     0.0                   0.0   \n",
       "90340                   0.0                     1.0                   0.0   \n",
       "90341                   0.0                     1.0                   0.0   \n",
       "90342                   1.0                     0.0                   0.0   \n",
       "90343                   0.0                     1.0                   0.0   \n",
       "90344                   0.0                     0.0                   0.0   \n",
       "90345                   0.0                     0.0                   0.0   \n",
       "90346                   0.0                     0.0                   0.0   \n",
       "90347                   0.0                     1.0                   0.0   \n",
       "\n",
       "       Total_Uninjured Event_Date              Location Purpose_of_flight  \\\n",
       "90338              0.0 2022-12-18  KAHULUI, HI                    Unknown   \n",
       "90339              3.0 2022-12-18  SAN MANUAL, AZ                Personal   \n",
       "90340              0.0 2022-12-21  AUBURN HILLS, MI              Personal   \n",
       "90341              1.0 2022-12-21  RESERVE, LA              Instructional   \n",
       "90342              0.0 2022-12-22  BRASNORTE,                     Unknown   \n",
       "90343              0.0 2022-12-26  ANNAPOLIS, MD                 Personal   \n",
       "90344              0.0 2022-12-26  HAMPTON, NH                    Unknown   \n",
       "90345              1.0 2022-12-26  PAYSON, AZ                    Personal   \n",
       "90346              0.0 2022-12-26  MORGAN, UT                    Personal   \n",
       "90347              1.0 2022-12-29  ATHENS, GA                    Personal   \n",
       "\n",
       "      Broad_phase_of_flight  Event_Year Event_Month_Name  \n",
       "90338               Missing        2022         December  \n",
       "90339               Missing        2022         December  \n",
       "90340               Missing        2022         December  \n",
       "90341               Missing        2022         December  \n",
       "90342               Missing        2022         December  \n",
       "90343               Missing        2022         December  \n",
       "90344               Missing        2022         December  \n",
       "90345               Missing        2022         December  \n",
       "90346               Missing        2022         December  \n",
       "90347               Missing        2022         December  "
      ]
     },
     "execution_count": 58,
     "metadata": {},
     "output_type": "execute_result"
    }
   ],
   "source": [
    "#Last 10 rows\n",
    "df.tail(10)"
   ]
  },
  {
   "cell_type": "code",
   "execution_count": 59,
   "id": "668c88f9",
   "metadata": {},
   "outputs": [
    {
     "data": {
      "text/plain": [
       "0"
      ]
     },
     "execution_count": 59,
     "metadata": {},
     "output_type": "execute_result"
    }
   ],
   "source": [
    "# df.duplicated('Event_Id').sum()\n",
    "df = df.drop_duplicates(subset=['Event_Id'], keep='first')\n",
    "df.duplicated('Event_Id').sum()"
   ]
  },
  {
   "cell_type": "code",
   "execution_count": 60,
   "id": "229c8e7a",
   "metadata": {},
   "outputs": [
    {
     "name": "stdout",
     "output_type": "stream",
     "text": [
      "<class 'pandas.core.frame.DataFrame'>\n",
      "Int64Index: 87951 entries, 0 to 90347\n",
      "Data columns (total 13 columns):\n",
      " #   Column                  Non-Null Count  Dtype         \n",
      "---  ------                  --------------  -----         \n",
      " 0   Event_Id                87951 non-null  object        \n",
      " 1   Make                    87951 non-null  object        \n",
      " 2   Model                   87951 non-null  object        \n",
      " 3   Total_Fatal_Injuries    87951 non-null  float64       \n",
      " 4   Total_Serious_Injuries  87951 non-null  float64       \n",
      " 5   Total_Minor_Injuries    87951 non-null  float64       \n",
      " 6   Total_Uninjured         87951 non-null  float64       \n",
      " 7   Event_Date              87951 non-null  datetime64[ns]\n",
      " 8   Location                87951 non-null  object        \n",
      " 9   Purpose_of_flight       87951 non-null  object        \n",
      " 10  Broad_phase_of_flight   87951 non-null  object        \n",
      " 11  Event_Year              87951 non-null  int64         \n",
      " 12  Event_Month_Name        87951 non-null  object        \n",
      "dtypes: datetime64[ns](1), float64(4), int64(1), object(7)\n",
      "memory usage: 9.4+ MB\n"
     ]
    }
   ],
   "source": [
    "df.info()"
   ]
  },
  {
   "cell_type": "code",
   "execution_count": 61,
   "id": "1b01ba29",
   "metadata": {},
   "outputs": [],
   "source": [
    "\n",
    "# Save  cleaned dataset to a new CSV file\n",
    "df.to_csv('Cleaned_aviation_data.csv', index=False)\n"
   ]
  },
  {
   "cell_type": "markdown",
   "id": "acc7ee8c",
   "metadata": {},
   "source": [
    "## Data Analysis Section"
   ]
  },
  {
   "cell_type": "markdown",
   "id": "9d542e45",
   "metadata": {},
   "source": [
    "### Data Analysis and Insights\n",
    "This section explores accident patterns to identify which aircraft models and flight conditions are associated with higher or lower risks.\n"
   ]
  },
  {
   "cell_type": "markdown",
   "id": "567df1a9",
   "metadata": {},
   "source": [
    "#### Total of `People Uninjured` by `Make` of the aircrafts"
   ]
  },
  {
   "cell_type": "code",
   "execution_count": 62,
   "id": "fa135655",
   "metadata": {},
   "outputs": [
    {
     "data": {
      "image/png": "[encoded data removed]",
      "text/plain": [
       "<Figure size 720x432 with 1 Axes>"
      ]
     },
     "metadata": {
      "needs_background": "light"
     },
     "output_type": "display_data"
    }
   ],
   "source": [
    "\n",
    "\n",
    "# Group by Make and sum Total_Uninjured\n",
    "make_uninjured = df.groupby('Make')['Total_Uninjured'].sum().sort_values(ascending=False).head(10)\n",
    "\n",
    "# Plot\n",
    "fig, ax = plt.subplots(figsize=(10,6))\n",
    "ax.bar(make_uninjured.index, make_uninjured.values, color='skyblue')\n",
    "\n",
    "# Set labels and title\n",
    "ax.set_title(\"Top 10 Makes by Total Uninjured\", fontsize=14)\n",
    "ax.set_xlabel(\"Make of the Aircraft\", fontsize=12)\n",
    "ax.set_ylabel(\"Total Uninjured\", fontsize=12)\n",
    "plt.xticks(rotation=45, ha='right')\n",
    "\n",
    "plt.show()\n"
   ]
  },
  {
   "cell_type": "markdown",
   "id": "243bed3b",
   "metadata": {},
   "source": [
    "##### The insight from the chart\n",
    " - ` Boeing `aircraft record the highest number of `uninjured `passengers, indicating strong safety performance during incidents.\n",
    " - This suggests Boeing planes are a `lower-risk` option for the company’s entry into the aviation industry."
   ]
  },
  {
   "cell_type": "markdown",
   "id": "ad10e799",
   "metadata": {},
   "source": [
    "### 2.Total Injuries(Fatal,Serious,Minor) by phase of flight(the specific stages of an aircraft's journey)"
   ]
  },
  {
   "cell_type": "code",
   "execution_count": 63,
   "id": "92297aa5",
   "metadata": {},
   "outputs": [
    {
     "data": {
      "image/png": "[encoded data removed]",
      "text/plain": [
       "<Figure size 720x432 with 1 Axes>"
      ]
     },
     "metadata": {
      "needs_background": "light"
     },
     "output_type": "display_data"
    }
   ],
   "source": [
    "\n",
    "\"\"\"\n",
    "About 30% of the records have an ‘Missing’ flight phase, meaning the phase during the accident wasn’t recorded.\n",
    "\n",
    "These records were excluded from the chart below to focus on interpretable flight stages.\n",
    "\n",
    "Even when including them, the overall pattern remains the same — most known-phase accidents occur during takeoff ,cruise and Maneuvering.\n",
    "\n",
    "\"\"\"\n",
    "\n",
    "\n",
    "# Create a new column for total injuries\n",
    "df['Total_Injured'] = df['Total_Fatal_Injuries'] + df['Total_Serious_Injuries'] + df['Total_Minor_Injuries']\n",
    "\n",
    "# Exclude rows where Broad.Phase.of.Flight is 'Missing'\n",
    "filtered_df = df[df['Broad_phase_of_flight'] != 'Missing']\n",
    "\n",
    "# Group by phase of flight and sum injuries\n",
    "phase_injuries = filtered_df.groupby('Broad_phase_of_flight')['Total_Injured'].sum().sort_values(ascending=False)\n",
    "\n",
    "# Plot\n",
    "fig, ax = plt.subplots(figsize=(10,6))\n",
    "ax.bar(phase_injuries.index, phase_injuries.values, color='skyblue')\n",
    "\n",
    "# Labels and title\n",
    "ax.set_title(\"Total Injuries by Phase of Flight\", fontsize=14)\n",
    "ax.set_xlabel(\"Phase of Flight\", fontsize=12)\n",
    "ax.set_ylabel(\"Total Injuries\", fontsize=12)\n",
    "plt.xticks(rotation=45, ha='right')\n",
    "\n",
    "\n",
    "plt.show()\n",
    "\n",
    "\n",
    "\n",
    "\n"
   ]
  },
  {
   "cell_type": "markdown",
   "id": "e3e0fad1",
   "metadata": {},
   "source": [
    "##### The insight from the bar chart\n",
    " - `Cruise, takeoff, and maneuvering` phases record the highest injuries, highlighting these as the `most critical moments for flight safety`.\n",
    "\n",
    "- The `high injuries during takeoff` suggest the company should `invest` in `advanced pilot training and maintenance checks` focused on early flight operations.\n"
   ]
  },
  {
   "cell_type": "markdown",
   "id": "77fed8de",
   "metadata": {},
   "source": [
    "### 3.Trend of `Total Injuries` over `time`\n",
    "\n"
   ]
  },
  {
   "cell_type": "code",
   "execution_count": 64,
   "id": "500740dc",
   "metadata": {},
   "outputs": [
    {
     "data": {
      "image/png": "[encoded data removed]",
      "text/plain": [
       "<Figure size 720x432 with 1 Axes>"
      ]
     },
     "metadata": {
      "needs_background": "light"
     },
     "output_type": "display_data"
    }
   ],
   "source": [
    "# Group by year and sum total injuries\n",
    "injuries_by_year = df.groupby('Event_Year')['Total_Injured'].sum().sort_index()\n",
    "\n",
    "# Plot\n",
    "fig, ax = plt.subplots(figsize=(10,6))\n",
    "ax.plot(injuries_by_year.index, injuries_by_year.values, marker='o', color='teal', linewidth=2)\n",
    "\n",
    "# Labels and title\n",
    "ax.set_title(\"Trend of Total Injuries Over the Years\", fontsize=14)\n",
    "ax.set_xlabel(\"Year\", fontsize=12)\n",
    "ax.set_ylabel(\"Total Injuries\", fontsize=12)\n",
    "plt.grid(True, linestyle='--', alpha=0.6)\n",
    "plt.tight_layout()\n",
    "plt.show()\n"
   ]
  },
  {
   "cell_type": "markdown",
   "id": "7e7bb30b",
   "metadata": {},
   "source": [
    "#### The insight\n",
    " - `Before 1982`, injuries were `nearly zero` due to `limited or inconsistent data reporting`.\n",
    " - From 1982 onward, injuries` steadily declined`, suggesting` improved aircraft safety standards` and `better risk management over time`\n"
   ]
  },
  {
   "cell_type": "markdown",
   "id": "7adeb9de",
   "metadata": {},
   "source": [
    "## Conclusion and Recommendations"
   ]
  },
  {
   "cell_type": "markdown",
   "id": "5dbd67ef",
   "metadata": {},
   "source": [
    "\n",
    "\n",
    "#### Conclusion\n",
    "This analysis examined aviation accident data to identify patterns and insights that could guide aircraft selection and operational decisions for a new aviation business.  \n",
    "After cleaning and analyzing over 87,000 aviation incident records, several key trends emerged:\n",
    "\n",
    "- **Boeing aircraft** recorded the highest number of **uninjured passengers**, suggesting relatively strong safety performance during incidents.  \n",
    "- **Cruise, takeoff, and maneuvering** phases were the most accident-prone, indicating that these flight stages pose the greatest operational risks.  \n",
    "- Over the years, the **total number of injuries has steadily declined**, reflecting improvements in aircraft design, pilot training, and safety regulations.\n",
    "\n",
    "Overall, the data indicates that modern commercial aircraft have become significantly safer, and that targeted improvements in flight operations can further reduce risk.\n",
    "\n",
    "#### Recommendations\n",
    "Based on these insights, the following recommendations are proposed:\n",
    "\n",
    "1. **Fleet Selection:**  \n",
    "   Prioritize aircraft models from manufacturers with consistently strong safety performance (e.g., Boeing) when building the fleet.\n",
    "\n",
    "2. **Pilot Training and Procedures:**  \n",
    "   Implement enhanced training programs focused on **takeoff, cruise, and maneuvering** phases, where the majority of injuries occur.\n",
    "\n",
    "3. **Maintenance and Safety Monitoring:**  \n",
    "   Invest in proactive maintenance and risk monitoring systems to minimize the likelihood of incidents during critical flight stages.\n",
    "\n",
    "4. **Data-Driven Safety Strategy:**  \n",
    "   Continue collecting and analyzing flight and maintenance data to track safety metrics and inform continuous improvement.\n",
    "\n",
    "5. **Regulatory and Technological Investment:**  \n",
    "   Leverage the declining injury trends by adopting modern technologies and compliance practices that align with the latest safety standards.\n",
    "\n",
    "By integrating these recommendations, the new aviation business can make evidence-based decisions that reduce operational risk and strengthen passenger safety outcomes.\n"
   ]
  }
 ],
 "metadata": {
  "kernelspec": {
   "display_name": "learn-env",
   "language": "python",
   "name": "python3"
  },
  "language_info": {
   "codemirror_mode": {
    "name": "ipython",
    "version": 3
   },
   "file_extension": ".py",
   "mimetype": "text/x-python",
   "name": "python",
   "nbconvert_exporter": "python",
   "pygments_lexer": "ipython3",
   "version": "3.8.5"
  }
 },
 "nbformat": 4,
 "nbformat_minor": 5
}
